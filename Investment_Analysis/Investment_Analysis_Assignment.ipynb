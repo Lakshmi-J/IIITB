{
 "cells": [
  {
   "cell_type": "markdown",
   "metadata": {},
   "source": [
    "<font color = blue> **\" Checkpoint 1: Data Cleaning 1\"** </font>"
   ]
  },
  {
   "cell_type": "code",
   "execution_count": 1,
   "metadata": {},
   "outputs": [],
   "source": [
    "# Importing libraries for the assignment\n",
    "import pandas as pd\n",
    "import numpy as np\n",
    "import matplotlib.pyplot as plt\n",
    "import seaborn as sns"
   ]
  },
  {
   "cell_type": "code",
   "execution_count": 2,
   "metadata": {},
   "outputs": [
    {
     "data": {
      "text/html": [
       "<div>\n",
       "<style scoped>\n",
       "    .dataframe tbody tr th:only-of-type {\n",
       "        vertical-align: middle;\n",
       "    }\n",
       "\n",
       "    .dataframe tbody tr th {\n",
       "        vertical-align: top;\n",
       "    }\n",
       "\n",
       "    .dataframe thead th {\n",
       "        text-align: right;\n",
       "    }\n",
       "</style>\n",
       "<table border=\"1\" class=\"dataframe\">\n",
       "  <thead>\n",
       "    <tr style=\"text-align: right;\">\n",
       "      <th></th>\n",
       "      <th>company_permalink</th>\n",
       "      <th>funding_round_permalink</th>\n",
       "      <th>funding_round_type</th>\n",
       "      <th>funding_round_code</th>\n",
       "      <th>funded_at</th>\n",
       "      <th>raised_amount_usd</th>\n",
       "    </tr>\n",
       "  </thead>\n",
       "  <tbody>\n",
       "    <tr>\n",
       "      <th>0</th>\n",
       "      <td>/organization/-fame</td>\n",
       "      <td>/funding-round/9a01d05418af9f794eebff7ace91f638</td>\n",
       "      <td>venture</td>\n",
       "      <td>B</td>\n",
       "      <td>05-01-2015</td>\n",
       "      <td>10000000.0</td>\n",
       "    </tr>\n",
       "    <tr>\n",
       "      <th>1</th>\n",
       "      <td>/ORGANIZATION/-QOUNTER</td>\n",
       "      <td>/funding-round/22dacff496eb7acb2b901dec1dfe5633</td>\n",
       "      <td>venture</td>\n",
       "      <td>A</td>\n",
       "      <td>14-10-2014</td>\n",
       "      <td>NaN</td>\n",
       "    </tr>\n",
       "    <tr>\n",
       "      <th>2</th>\n",
       "      <td>/organization/-qounter</td>\n",
       "      <td>/funding-round/b44fbb94153f6cdef13083530bb48030</td>\n",
       "      <td>seed</td>\n",
       "      <td>NaN</td>\n",
       "      <td>01-03-2014</td>\n",
       "      <td>700000.0</td>\n",
       "    </tr>\n",
       "  </tbody>\n",
       "</table>\n",
       "</div>"
      ],
      "text/plain": [
       "        company_permalink                          funding_round_permalink  \\\n",
       "0     /organization/-fame  /funding-round/9a01d05418af9f794eebff7ace91f638   \n",
       "1  /ORGANIZATION/-QOUNTER  /funding-round/22dacff496eb7acb2b901dec1dfe5633   \n",
       "2  /organization/-qounter  /funding-round/b44fbb94153f6cdef13083530bb48030   \n",
       "\n",
       "  funding_round_type funding_round_code   funded_at  raised_amount_usd  \n",
       "0            venture                  B  05-01-2015         10000000.0  \n",
       "1            venture                  A  14-10-2014                NaN  \n",
       "2               seed                NaN  01-03-2014           700000.0  "
      ]
     },
     "execution_count": 2,
     "metadata": {},
     "output_type": "execute_result"
    }
   ],
   "source": [
    "# Creating pandas dataframe for rounds \n",
    "rounds2=pd.read_csv('rounds2.csv',encoding = 'ISO-8859-1')\n",
    "rounds2.head(3)"
   ]
  },
  {
   "cell_type": "code",
   "execution_count": 3,
   "metadata": {},
   "outputs": [
    {
     "data": {
      "text/html": [
       "<div>\n",
       "<style scoped>\n",
       "    .dataframe tbody tr th:only-of-type {\n",
       "        vertical-align: middle;\n",
       "    }\n",
       "\n",
       "    .dataframe tbody tr th {\n",
       "        vertical-align: top;\n",
       "    }\n",
       "\n",
       "    .dataframe thead th {\n",
       "        text-align: right;\n",
       "    }\n",
       "</style>\n",
       "<table border=\"1\" class=\"dataframe\">\n",
       "  <thead>\n",
       "    <tr style=\"text-align: right;\">\n",
       "      <th></th>\n",
       "      <th>permalink</th>\n",
       "      <th>name</th>\n",
       "      <th>homepage_url</th>\n",
       "      <th>category_list</th>\n",
       "      <th>status</th>\n",
       "      <th>country_code</th>\n",
       "      <th>state_code</th>\n",
       "      <th>region</th>\n",
       "      <th>city</th>\n",
       "      <th>founded_at</th>\n",
       "    </tr>\n",
       "  </thead>\n",
       "  <tbody>\n",
       "    <tr>\n",
       "      <th>0</th>\n",
       "      <td>/Organization/-Fame</td>\n",
       "      <td>#fame</td>\n",
       "      <td>http://livfame.com</td>\n",
       "      <td>Media</td>\n",
       "      <td>operating</td>\n",
       "      <td>IND</td>\n",
       "      <td>16</td>\n",
       "      <td>Mumbai</td>\n",
       "      <td>Mumbai</td>\n",
       "      <td>NaN</td>\n",
       "    </tr>\n",
       "    <tr>\n",
       "      <th>1</th>\n",
       "      <td>/Organization/-Qounter</td>\n",
       "      <td>:Qounter</td>\n",
       "      <td>http://www.qounter.com</td>\n",
       "      <td>Application Platforms|Real Time|Social Network...</td>\n",
       "      <td>operating</td>\n",
       "      <td>USA</td>\n",
       "      <td>DE</td>\n",
       "      <td>DE - Other</td>\n",
       "      <td>Delaware City</td>\n",
       "      <td>04-09-2014</td>\n",
       "    </tr>\n",
       "    <tr>\n",
       "      <th>2</th>\n",
       "      <td>/Organization/-The-One-Of-Them-Inc-</td>\n",
       "      <td>(THE) ONE of THEM,Inc.</td>\n",
       "      <td>http://oneofthem.jp</td>\n",
       "      <td>Apps|Games|Mobile</td>\n",
       "      <td>operating</td>\n",
       "      <td>NaN</td>\n",
       "      <td>NaN</td>\n",
       "      <td>NaN</td>\n",
       "      <td>NaN</td>\n",
       "      <td>NaN</td>\n",
       "    </tr>\n",
       "  </tbody>\n",
       "</table>\n",
       "</div>"
      ],
      "text/plain": [
       "                             permalink                    name  \\\n",
       "0                  /Organization/-Fame                   #fame   \n",
       "1               /Organization/-Qounter                :Qounter   \n",
       "2  /Organization/-The-One-Of-Them-Inc-  (THE) ONE of THEM,Inc.   \n",
       "\n",
       "             homepage_url                                      category_list  \\\n",
       "0      http://livfame.com                                              Media   \n",
       "1  http://www.qounter.com  Application Platforms|Real Time|Social Network...   \n",
       "2     http://oneofthem.jp                                  Apps|Games|Mobile   \n",
       "\n",
       "      status country_code state_code      region           city  founded_at  \n",
       "0  operating          IND         16      Mumbai         Mumbai         NaN  \n",
       "1  operating          USA         DE  DE - Other  Delaware City  04-09-2014  \n",
       "2  operating          NaN        NaN         NaN            NaN         NaN  "
      ]
     },
     "execution_count": 3,
     "metadata": {},
     "output_type": "execute_result"
    }
   ],
   "source": [
    "# Creating pandas dataframe for companies \n",
    "companies = pd.read_csv(\"companies.txt\",sep='\\t', encoding = \"ISO-8859-1\")\n",
    "companies.head(3)"
   ]
  },
  {
   "cell_type": "code",
   "execution_count": 4,
   "metadata": {},
   "outputs": [
    {
     "data": {
      "text/plain": [
       "66370"
      ]
     },
     "execution_count": 4,
     "metadata": {},
     "output_type": "execute_result"
    }
   ],
   "source": [
    "# Number of unique companies are present in rounds2\n",
    "rounds2['company_permalink']=rounds2['company_permalink'].str.upper()\n",
    "rounds2.company_permalink.nunique()"
   ]
  },
  {
   "cell_type": "code",
   "execution_count": 5,
   "metadata": {},
   "outputs": [
    {
     "data": {
      "text/plain": [
       "66368"
      ]
     },
     "execution_count": 5,
     "metadata": {},
     "output_type": "execute_result"
    }
   ],
   "source": [
    "# Number of unique companies are present in companies\n",
    "companies['permalink']=companies['permalink'].str.upper()\n",
    "companies.permalink.nunique()"
   ]
  },
  {
   "cell_type": "code",
   "execution_count": 6,
   "metadata": {},
   "outputs": [
    {
     "data": {
      "text/plain": [
       "False"
      ]
     },
     "execution_count": 6,
     "metadata": {},
     "output_type": "execute_result"
    }
   ],
   "source": [
    "# Are there any companies in the rounds2 file which are not present in companies?\n",
    "result=(rounds2.company_permalink.nunique()==companies.permalink.nunique())\n",
    "result\n",
    "# Hence there are companies in rounds2 which are not present in companies"
   ]
  },
  {
   "cell_type": "code",
   "execution_count": 7,
   "metadata": {},
   "outputs": [
    {
     "data": {
      "text/plain": [
       "114947"
      ]
     },
     "execution_count": 7,
     "metadata": {},
     "output_type": "execute_result"
    }
   ],
   "source": [
    "# Merge the two data frames so that all variables (columns) in the companies frame are added to the rounds2 data frame. \n",
    "# Name the merged frame master_frame. How many observations are present in master_frame?\n",
    "master_frame_df=pd.merge(companies,rounds2, left_on='permalink',right_on='company_permalink', how='outer')\n",
    "master_frame=master_frame_df.drop_duplicates()\n",
    "# Replace NaN in raised_amount_usd column with 0\n",
    "master_frame.raised_amount_usd.fillna(0,inplace=True)\n",
    "master_frame_observation=master_frame.permalink.count()\n",
    "master_frame_observation"
   ]
  },
  {
   "cell_type": "markdown",
   "metadata": {},
   "source": [
    "<font color = blue> **\" Checkpoint 2: Funding Type Analysis - Investment type analysis. \"** </font>"
   ]
  },
  {
   "cell_type": "code",
   "execution_count": 8,
   "metadata": {},
   "outputs": [
    {
     "data": {
      "text/plain": [
       "10634054.43608318"
      ]
     },
     "execution_count": 8,
     "metadata": {},
     "output_type": "execute_result"
    }
   ],
   "source": [
    "# Average funding amount for venture type\n",
    "avg_venture=master_frame.loc[master_frame['funding_round_type'] == 'venture','raised_amount_usd'].mean()\n",
    "avg_venture"
   ]
  },
  {
   "cell_type": "code",
   "execution_count": 9,
   "metadata": {},
   "outputs": [
    {
     "data": {
      "text/plain": [
       "764564.3457499179"
      ]
     },
     "execution_count": 9,
     "metadata": {},
     "output_type": "execute_result"
    }
   ],
   "source": [
    "# Average funding amount for angel type\n",
    "avg_angel=master_frame.loc[master_frame['funding_round_type'] == 'angel', 'raised_amount_usd'].mean()\n",
    "avg_angel"
   ]
  },
  {
   "cell_type": "code",
   "execution_count": 10,
   "metadata": {},
   "outputs": [
    {
     "data": {
      "text/plain": [
       "556606.7416131569"
      ]
     },
     "execution_count": 10,
     "metadata": {},
     "output_type": "execute_result"
    }
   ],
   "source": [
    "# Average funding amount for seed type\n",
    "avg_seed=master_frame.loc[master_frame['funding_round_type'] == 'seed','raised_amount_usd'].mean()\n",
    "avg_seed"
   ]
  },
  {
   "cell_type": "code",
   "execution_count": 11,
   "metadata": {},
   "outputs": [
    {
     "data": {
      "text/plain": [
       "62111788.2297593"
      ]
     },
     "execution_count": 11,
     "metadata": {},
     "output_type": "execute_result"
    }
   ],
   "source": [
    "# Average funding amount for private equity type\n",
    "avg_private_equity=master_frame.loc[master_frame['funding_round_type'] == 'private_equity','raised_amount_usd'].mean()\n",
    "avg_private_equity"
   ]
  },
  {
   "cell_type": "code",
   "execution_count": 12,
   "metadata": {},
   "outputs": [
    {
     "name": "stdout",
     "output_type": "stream",
     "text": [
      "['venture']\n"
     ]
    }
   ],
   "source": [
    "# Considering that Spark Funds wants to invest between 5 to 15 million USD per  investment round,which investment type is the most suitable for them?\n",
    "funding_type=['private_equity','venture','seed','angel']\n",
    "investment_type = [funding_type[i] for i in range (0,len(funding_type)) if 5000000<= (master_frame.loc[master_frame['funding_round_type'] == funding_type[i], 'raised_amount_usd'].mean())<= 15000000]\n",
    "print(investment_type)"
   ]
  },
  {
   "cell_type": "markdown",
   "metadata": {},
   "source": [
    "<font color = blue> **\"Checkpoint 3: Country Analysis\"** </font>"
   ]
  },
  {
   "cell_type": "code",
   "execution_count": 13,
   "metadata": {},
   "outputs": [
    {
     "data": {
      "text/html": [
       "<div>\n",
       "<style scoped>\n",
       "    .dataframe tbody tr th:only-of-type {\n",
       "        vertical-align: middle;\n",
       "    }\n",
       "\n",
       "    .dataframe tbody tr th {\n",
       "        vertical-align: top;\n",
       "    }\n",
       "\n",
       "    .dataframe thead th {\n",
       "        text-align: right;\n",
       "    }\n",
       "</style>\n",
       "<table border=\"1\" class=\"dataframe\">\n",
       "  <thead>\n",
       "    <tr style=\"text-align: right;\">\n",
       "      <th></th>\n",
       "      <th>country_code</th>\n",
       "      <th>raised_amount_usd</th>\n",
       "    </tr>\n",
       "  </thead>\n",
       "  <tbody>\n",
       "    <tr>\n",
       "      <th>0</th>\n",
       "      <td>USA</td>\n",
       "      <td>4.225108e+11</td>\n",
       "    </tr>\n",
       "    <tr>\n",
       "      <th>1</th>\n",
       "      <td>CHN</td>\n",
       "      <td>3.983542e+10</td>\n",
       "    </tr>\n",
       "    <tr>\n",
       "      <th>2</th>\n",
       "      <td>GBR</td>\n",
       "      <td>2.024563e+10</td>\n",
       "    </tr>\n",
       "    <tr>\n",
       "      <th>3</th>\n",
       "      <td>IND</td>\n",
       "      <td>1.439186e+10</td>\n",
       "    </tr>\n",
       "    <tr>\n",
       "      <th>4</th>\n",
       "      <td>CAN</td>\n",
       "      <td>9.583332e+09</td>\n",
       "    </tr>\n",
       "    <tr>\n",
       "      <th>5</th>\n",
       "      <td>FRA</td>\n",
       "      <td>7.259537e+09</td>\n",
       "    </tr>\n",
       "    <tr>\n",
       "      <th>6</th>\n",
       "      <td>ISR</td>\n",
       "      <td>6.907515e+09</td>\n",
       "    </tr>\n",
       "    <tr>\n",
       "      <th>7</th>\n",
       "      <td>DEU</td>\n",
       "      <td>6.346960e+09</td>\n",
       "    </tr>\n",
       "    <tr>\n",
       "      <th>8</th>\n",
       "      <td>JPN</td>\n",
       "      <td>3.363677e+09</td>\n",
       "    </tr>\n",
       "  </tbody>\n",
       "</table>\n",
       "</div>"
      ],
      "text/plain": [
       "  country_code  raised_amount_usd\n",
       "0          USA       4.225108e+11\n",
       "1          CHN       3.983542e+10\n",
       "2          GBR       2.024563e+10\n",
       "3          IND       1.439186e+10\n",
       "4          CAN       9.583332e+09\n",
       "5          FRA       7.259537e+09\n",
       "6          ISR       6.907515e+09\n",
       "7          DEU       6.346960e+09\n",
       "8          JPN       3.363677e+09"
      ]
     },
     "execution_count": 13,
     "metadata": {},
     "output_type": "execute_result"
    }
   ],
   "source": [
    "# Filter table for 'venture' funding_round_type\n",
    "venture_df=master_frame.loc[master_frame['funding_round_type']=='venture']\n",
    "# Group the table by country values and calculate the sum \n",
    "country_df=venture_df.groupby('country_code').agg({'raised_amount_usd':sum})\n",
    "# Data frame named top9 with the top nine countries (based on the total investment amount each country has received)\n",
    "top_countries=country_df.sort_values(by='raised_amount_usd',ascending=False)\n",
    "top9=top_countries.head(9).reset_index()\n",
    "top9"
   ]
  },
  {
   "cell_type": "markdown",
   "metadata": {},
   "source": [
    "<font color = blue> **\"Checkpoint 4: Sector Analysis 1\"** </font>"
   ]
  },
  {
   "cell_type": "code",
   "execution_count": 14,
   "metadata": {},
   "outputs": [
    {
     "data": {
      "text/html": [
       "<div>\n",
       "<style scoped>\n",
       "    .dataframe tbody tr th:only-of-type {\n",
       "        vertical-align: middle;\n",
       "    }\n",
       "\n",
       "    .dataframe tbody tr th {\n",
       "        vertical-align: top;\n",
       "    }\n",
       "\n",
       "    .dataframe thead th {\n",
       "        text-align: right;\n",
       "    }\n",
       "</style>\n",
       "<table border=\"1\" class=\"dataframe\">\n",
       "  <thead>\n",
       "    <tr style=\"text-align: right;\">\n",
       "      <th></th>\n",
       "      <th>primary_sector</th>\n",
       "      <th>main_sector</th>\n",
       "    </tr>\n",
       "  </thead>\n",
       "  <tbody>\n",
       "    <tr>\n",
       "      <th>53064</th>\n",
       "      <td>Sports</td>\n",
       "      <td>Automotive &amp; Sports</td>\n",
       "    </tr>\n",
       "    <tr>\n",
       "      <th>57384</th>\n",
       "      <td>Design</td>\n",
       "      <td>Automotive &amp; Sports</td>\n",
       "    </tr>\n",
       "    <tr>\n",
       "      <th>58548</th>\n",
       "      <td>Designers</td>\n",
       "      <td>Automotive &amp; Sports</td>\n",
       "    </tr>\n",
       "  </tbody>\n",
       "</table>\n",
       "</div>"
      ],
      "text/plain": [
       "      primary_sector          main_sector\n",
       "53064         Sports  Automotive & Sports\n",
       "57384         Design  Automotive & Sports\n",
       "58548      Designers  Automotive & Sports"
      ]
     },
     "execution_count": 14,
     "metadata": {},
     "output_type": "execute_result"
    }
   ],
   "source": [
    "# Extract the primary sector of each category list from the category_list column\n",
    "category=pd.Series.to_frame(master_frame['category_list'].str.split(\"|\").str[0]).dropna()\n",
    "# Use the mapping file 'mapping.csv' to map each primary sector to one of the eight main sectors\n",
    "mapping=pd.read_csv(\"mapping.csv\",encoding='ISO-8859-1')\n",
    "mapping_df = mapping.drop(columns='Blanks').dropna()\n",
    "# Generate dataframe with primary sector and main sector mapping\n",
    "mapped_values=pd.merge(category,mapping_df,on='category_list',how='inner')\n",
    "main_sector_df=mapped_values.rename(index=str, columns={\"category_list\": \"primary_sector\"})\n",
    "sector_frame=pd.melt(main_sector_df, id_vars=['primary_sector'], value_vars=['Automotive & Sports','Cleantech / Semiconductors','Entertainment','Health','Manufacturing','News, Search and Messaging','Others','Social, Finance, Analytics, Advertising'])\n",
    "sector_frame= sector_frame[(sector_frame[['value']] != 0).all(axis=1)].drop_duplicates()\n",
    "sector_frame=sector_frame.drop(['value'], axis=1).rename(index=str,columns={\"variable\":\"main_sector\"}).dropna(how='any',axis=0) \n",
    "sector_frame.head(3)"
   ]
  },
  {
   "cell_type": "markdown",
   "metadata": {},
   "source": [
    "<font color = blue>**\"Checkpoint 5: Sector Analysis 2\"**</font>"
   ]
  },
  {
   "cell_type": "code",
   "execution_count": 15,
   "metadata": {},
   "outputs": [],
   "source": [
    "# Creating dataframe with venture funding type between the funding amount of 5-15M USD\n",
    "venture_funding_between_5_15 = master_frame[(master_frame['funding_round_type']=='venture') & (master_frame['raised_amount_usd']>= 5000000)& (master_frame['raised_amount_usd']<= 15000000)]\n",
    "venture_funding_between_5_15.drop_duplicates()\n",
    "venture_funding_between_5_15_sector_mapping=pd.merge(venture_funding_between_5_15,sector_frame,left_on='category_list',right_on='primary_sector',how='inner')"
   ]
  },
  {
   "cell_type": "markdown",
   "metadata": {},
   "source": [
    "<font color = brown> Data frames D1, D2 and D3 for each of the three countries containing the observations of venture funding type falling within the 5-15 million USD range </font>"
   ]
  },
  {
   "cell_type": "code",
   "execution_count": 16,
   "metadata": {},
   "outputs": [],
   "source": [
    "# Data frames D1, D2 and D3 for USA,GBR and IND containing the observations of venture funding type falling within the 5-15 million USD \n",
    "D1=venture_funding_between_5_15_sector_mapping[venture_funding_between_5_15_sector_mapping['country_code'] == 'USA']\n",
    "D2=venture_funding_between_5_15_sector_mapping[venture_funding_between_5_15_sector_mapping['country_code'] == 'GBR']\n",
    "D3=venture_funding_between_5_15_sector_mapping[venture_funding_between_5_15_sector_mapping['country_code'] == 'IND']"
   ]
  },
  {
   "cell_type": "code",
   "execution_count": 17,
   "metadata": {
    "scrolled": true
   },
   "outputs": [
    {
     "data": {
      "text/plain": [
       "5949"
      ]
     },
     "execution_count": 17,
     "metadata": {},
     "output_type": "execute_result"
    }
   ],
   "source": [
    "#Total number of investments (count) for USA\n",
    "D1_investment_count=D1.raised_amount_usd.count()\n",
    "D1_investment_count"
   ]
  },
  {
   "cell_type": "code",
   "execution_count": 18,
   "metadata": {},
   "outputs": [
    {
     "data": {
      "text/plain": [
       "337"
      ]
     },
     "execution_count": 18,
     "metadata": {},
     "output_type": "execute_result"
    }
   ],
   "source": [
    "#Total number of investments (count) for GBR\n",
    "D2_investment_count=D2.raised_amount_usd.count()\n",
    "D2_investment_count"
   ]
  },
  {
   "cell_type": "code",
   "execution_count": 19,
   "metadata": {},
   "outputs": [
    {
     "data": {
      "text/plain": [
       "173"
      ]
     },
     "execution_count": 19,
     "metadata": {},
     "output_type": "execute_result"
    }
   ],
   "source": [
    "#Total number of investments (count) for IND\n",
    "D3_investment_count=D3.raised_amount_usd.count()\n",
    "D3_investment_count"
   ]
  },
  {
   "cell_type": "code",
   "execution_count": 20,
   "metadata": {},
   "outputs": [
    {
     "data": {
      "text/plain": [
       "53272315512.0"
      ]
     },
     "execution_count": 20,
     "metadata": {},
     "output_type": "execute_result"
    }
   ],
   "source": [
    "#Total amount of investment (USD) for USA\n",
    "D1_investment_sum=D1.raised_amount_usd.sum()\n",
    "D1_investment_sum"
   ]
  },
  {
   "cell_type": "code",
   "execution_count": 21,
   "metadata": {},
   "outputs": [
    {
     "data": {
      "text/plain": [
       "2971451457.0"
      ]
     },
     "execution_count": 21,
     "metadata": {},
     "output_type": "execute_result"
    }
   ],
   "source": [
    "#Total amount of investment (USD) for GBR\n",
    "D2_investment_sum=D2.raised_amount_usd.sum()\n",
    "D2_investment_sum"
   ]
  },
  {
   "cell_type": "code",
   "execution_count": 22,
   "metadata": {},
   "outputs": [
    {
     "data": {
      "text/plain": [
       "1517298277.0"
      ]
     },
     "execution_count": 22,
     "metadata": {},
     "output_type": "execute_result"
    }
   ],
   "source": [
    "#Total amount of investment (USD) for IND\n",
    "D3_investment_sum=D3.raised_amount_usd.sum()\n",
    "D3_investment_sum"
   ]
  },
  {
   "cell_type": "markdown",
   "metadata": {},
   "source": [
    "<font color = brown>The total count and  total amount of investments  for each main sector in a separate columns</font>"
   ]
  },
  {
   "cell_type": "code",
   "execution_count": 23,
   "metadata": {
    "scrolled": true
   },
   "outputs": [
    {
     "data": {
      "text/html": [
       "<div>\n",
       "<style scoped>\n",
       "    .dataframe tbody tr th:only-of-type {\n",
       "        vertical-align: middle;\n",
       "    }\n",
       "\n",
       "    .dataframe tbody tr th {\n",
       "        vertical-align: top;\n",
       "    }\n",
       "\n",
       "    .dataframe thead th {\n",
       "        text-align: right;\n",
       "    }\n",
       "</style>\n",
       "<table border=\"1\" class=\"dataframe\">\n",
       "  <thead>\n",
       "    <tr style=\"text-align: right;\">\n",
       "      <th></th>\n",
       "      <th>main_sector</th>\n",
       "      <th>count</th>\n",
       "      <th>sum</th>\n",
       "    </tr>\n",
       "  </thead>\n",
       "  <tbody>\n",
       "    <tr>\n",
       "      <th>0</th>\n",
       "      <td>Others</td>\n",
       "      <td>2069</td>\n",
       "      <td>1.849231e+10</td>\n",
       "    </tr>\n",
       "    <tr>\n",
       "      <th>1</th>\n",
       "      <td>Cleantech / Semiconductors</td>\n",
       "      <td>1737</td>\n",
       "      <td>1.594099e+10</td>\n",
       "    </tr>\n",
       "    <tr>\n",
       "      <th>2</th>\n",
       "      <td>Health</td>\n",
       "      <td>601</td>\n",
       "      <td>5.405750e+09</td>\n",
       "    </tr>\n",
       "  </tbody>\n",
       "</table>\n",
       "</div>"
      ],
      "text/plain": [
       "                  main_sector  count           sum\n",
       "0                      Others   2069  1.849231e+10\n",
       "1  Cleantech / Semiconductors   1737  1.594099e+10\n",
       "2                      Health    601  5.405750e+09"
      ]
     },
     "execution_count": 23,
     "metadata": {},
     "output_type": "execute_result"
    }
   ],
   "source": [
    "# The total number (or count) of investments for each main sector for USA\n",
    "D1_sector_count=pd.Series.to_frame(D1.groupby('main_sector').raised_amount_usd.count().sort_values(ascending=False))\n",
    "D1_sector_sum=pd.Series.to_frame(D1.groupby('main_sector').raised_amount_usd.sum().sort_values(ascending=False))\n",
    "D1_sector=pd.merge(D1_sector_count,D1_sector_sum,on='main_sector').reset_index()\n",
    "D1_main_sector=D1_sector.rename(index=str, columns={'raised_amount_usd_x':'count','raised_amount_usd_y':'sum'})\n",
    "D1_main_sector.head(3)"
   ]
  },
  {
   "cell_type": "code",
   "execution_count": 24,
   "metadata": {},
   "outputs": [
    {
     "data": {
      "text/html": [
       "<div>\n",
       "<style scoped>\n",
       "    .dataframe tbody tr th:only-of-type {\n",
       "        vertical-align: middle;\n",
       "    }\n",
       "\n",
       "    .dataframe tbody tr th {\n",
       "        vertical-align: top;\n",
       "    }\n",
       "\n",
       "    .dataframe thead th {\n",
       "        text-align: right;\n",
       "    }\n",
       "</style>\n",
       "<table border=\"1\" class=\"dataframe\">\n",
       "  <thead>\n",
       "    <tr style=\"text-align: right;\">\n",
       "      <th></th>\n",
       "      <th>main_sector</th>\n",
       "      <th>count</th>\n",
       "      <th>sum</th>\n",
       "    </tr>\n",
       "  </thead>\n",
       "  <tbody>\n",
       "    <tr>\n",
       "      <th>0</th>\n",
       "      <td>Cleantech / Semiconductors</td>\n",
       "      <td>107</td>\n",
       "      <td>942829246.0</td>\n",
       "    </tr>\n",
       "    <tr>\n",
       "      <th>1</th>\n",
       "      <td>Others</td>\n",
       "      <td>106</td>\n",
       "      <td>931205523.0</td>\n",
       "    </tr>\n",
       "    <tr>\n",
       "      <th>2</th>\n",
       "      <td>News, Search and Messaging</td>\n",
       "      <td>31</td>\n",
       "      <td>274140008.0</td>\n",
       "    </tr>\n",
       "  </tbody>\n",
       "</table>\n",
       "</div>"
      ],
      "text/plain": [
       "                  main_sector  count          sum\n",
       "0  Cleantech / Semiconductors    107  942829246.0\n",
       "1                      Others    106  931205523.0\n",
       "2  News, Search and Messaging     31  274140008.0"
      ]
     },
     "execution_count": 24,
     "metadata": {},
     "output_type": "execute_result"
    }
   ],
   "source": [
    "# The total number (or count) of investments for each main sector for GBR\n",
    "D2_sector_count=pd.Series.to_frame(D2.groupby('main_sector').raised_amount_usd.count().sort_values(ascending=False))\n",
    "D2_sector_sum=pd.Series.to_frame(D2.groupby('main_sector').raised_amount_usd.sum().sort_values(ascending=False))\n",
    "D2_sector=pd.merge(D2_sector_count,D2_sector_sum,on='main_sector').reset_index()\n",
    "D2_main_sector=D2_sector.rename(index=str, columns={'raised_amount_usd_x':'count','raised_amount_usd_y':'sum'})\n",
    "D2_main_sector.head(3)"
   ]
  },
  {
   "cell_type": "code",
   "execution_count": 25,
   "metadata": {},
   "outputs": [
    {
     "data": {
      "text/html": [
       "<div>\n",
       "<style scoped>\n",
       "    .dataframe tbody tr th:only-of-type {\n",
       "        vertical-align: middle;\n",
       "    }\n",
       "\n",
       "    .dataframe tbody tr th {\n",
       "        vertical-align: top;\n",
       "    }\n",
       "\n",
       "    .dataframe thead th {\n",
       "        text-align: right;\n",
       "    }\n",
       "</style>\n",
       "<table border=\"1\" class=\"dataframe\">\n",
       "  <thead>\n",
       "    <tr style=\"text-align: right;\">\n",
       "      <th></th>\n",
       "      <th>main_sector</th>\n",
       "      <th>count</th>\n",
       "      <th>sum</th>\n",
       "    </tr>\n",
       "  </thead>\n",
       "  <tbody>\n",
       "    <tr>\n",
       "      <th>0</th>\n",
       "      <td>Others</td>\n",
       "      <td>74</td>\n",
       "      <td>675169507.0</td>\n",
       "    </tr>\n",
       "    <tr>\n",
       "      <th>1</th>\n",
       "      <td>News, Search and Messaging</td>\n",
       "      <td>31</td>\n",
       "      <td>267118770.0</td>\n",
       "    </tr>\n",
       "    <tr>\n",
       "      <th>2</th>\n",
       "      <td>Entertainment</td>\n",
       "      <td>19</td>\n",
       "      <td>156150000.0</td>\n",
       "    </tr>\n",
       "  </tbody>\n",
       "</table>\n",
       "</div>"
      ],
      "text/plain": [
       "                  main_sector  count          sum\n",
       "0                      Others     74  675169507.0\n",
       "1  News, Search and Messaging     31  267118770.0\n",
       "2               Entertainment     19  156150000.0"
      ]
     },
     "execution_count": 25,
     "metadata": {},
     "output_type": "execute_result"
    }
   ],
   "source": [
    "# The total number (or count) of investments for each main sector for IND\n",
    "D3_sector_count=pd.Series.to_frame(D3.groupby('main_sector').raised_amount_usd.count().sort_values(ascending=False))\n",
    "D3_sector_sum=pd.Series.to_frame(D3.groupby('main_sector').raised_amount_usd.sum().sort_values(ascending=False))\n",
    "D3_sector=pd.merge(D3_sector_count,D3_sector_sum,on='main_sector').reset_index()\n",
    "D3_main_sector=D3_sector.rename(index=str, columns={'raised_amount_usd_x':'count','raised_amount_usd_y':'sum'})\n",
    "D3_main_sector.head(3)"
   ]
  },
  {
   "cell_type": "code",
   "execution_count": 26,
   "metadata": {},
   "outputs": [
    {
     "data": {
      "text/plain": [
       "'Others'"
      ]
     },
     "execution_count": 26,
     "metadata": {},
     "output_type": "execute_result"
    }
   ],
   "source": [
    "#Top sector (based on count of investments) for USA\n",
    "top_sector_count_C1=D1_main_sector['main_sector'][0]\n",
    "top_sector_count_C1"
   ]
  },
  {
   "cell_type": "code",
   "execution_count": 27,
   "metadata": {},
   "outputs": [
    {
     "data": {
      "text/plain": [
       "'Cleantech / Semiconductors'"
      ]
     },
     "execution_count": 27,
     "metadata": {},
     "output_type": "execute_result"
    }
   ],
   "source": [
    "#Top sector (based on count of investments) for GBR\n",
    "top_sector_count_C2=D2_main_sector['main_sector'][0]\n",
    "top_sector_count_C2"
   ]
  },
  {
   "cell_type": "code",
   "execution_count": 28,
   "metadata": {},
   "outputs": [
    {
     "data": {
      "text/plain": [
       "'Others'"
      ]
     },
     "execution_count": 28,
     "metadata": {},
     "output_type": "execute_result"
    }
   ],
   "source": [
    "#Top sector (based on count of investments) for IND\n",
    "top_sector_count_C3=D3_main_sector['main_sector'][0]\n",
    "top_sector_count_C3"
   ]
  },
  {
   "cell_type": "code",
   "execution_count": 29,
   "metadata": {},
   "outputs": [
    {
     "data": {
      "text/plain": [
       "'Cleantech / Semiconductors'"
      ]
     },
     "execution_count": 29,
     "metadata": {},
     "output_type": "execute_result"
    }
   ],
   "source": [
    "#Second-best sector (based on count of investments) for USA\n",
    "second_best_sector_count_C1=D1_main_sector['main_sector'][1]\n",
    "second_best_sector_count_C1"
   ]
  },
  {
   "cell_type": "code",
   "execution_count": 30,
   "metadata": {},
   "outputs": [
    {
     "data": {
      "text/plain": [
       "'Others'"
      ]
     },
     "execution_count": 30,
     "metadata": {},
     "output_type": "execute_result"
    }
   ],
   "source": [
    "#Second-best sector (based on count of investments) for GBR\n",
    "second_best_sector_count_C2=D2_main_sector['main_sector'][1]\n",
    "second_best_sector_count_C2"
   ]
  },
  {
   "cell_type": "code",
   "execution_count": 31,
   "metadata": {},
   "outputs": [
    {
     "data": {
      "text/plain": [
       "'News, Search and Messaging'"
      ]
     },
     "execution_count": 31,
     "metadata": {},
     "output_type": "execute_result"
    }
   ],
   "source": [
    "#Second-best sector (based on count of investments) for IND\n",
    "second_best_sector_count_C3=D3_main_sector['main_sector'][1]\n",
    "second_best_sector_count_C3"
   ]
  },
  {
   "cell_type": "code",
   "execution_count": 32,
   "metadata": {},
   "outputs": [
    {
     "data": {
      "text/plain": [
       "'Health'"
      ]
     },
     "execution_count": 32,
     "metadata": {},
     "output_type": "execute_result"
    }
   ],
   "source": [
    "#Third-best sector (based on count of investments) for USA\n",
    "third_best_sector_count_C1=D1_main_sector['main_sector'][2]\n",
    "third_best_sector_count_C1"
   ]
  },
  {
   "cell_type": "code",
   "execution_count": 33,
   "metadata": {},
   "outputs": [
    {
     "data": {
      "text/plain": [
       "'News, Search and Messaging'"
      ]
     },
     "execution_count": 33,
     "metadata": {},
     "output_type": "execute_result"
    }
   ],
   "source": [
    "#Third-best sector (based on count of investments) for GBR\n",
    "third_best_sector_count_C2=D2_main_sector['main_sector'][2]\n",
    "third_best_sector_count_C2"
   ]
  },
  {
   "cell_type": "code",
   "execution_count": 34,
   "metadata": {},
   "outputs": [
    {
     "data": {
      "text/plain": [
       "'Entertainment'"
      ]
     },
     "execution_count": 34,
     "metadata": {},
     "output_type": "execute_result"
    }
   ],
   "source": [
    "#Third-best sector (based on count of investments) for IND\n",
    "third_best_sector_count_C3=D3_main_sector['main_sector'][2]\n",
    "third_best_sector_count_C3"
   ]
  },
  {
   "cell_type": "code",
   "execution_count": 35,
   "metadata": {},
   "outputs": [
    {
     "data": {
      "text/plain": [
       "2069"
      ]
     },
     "execution_count": 35,
     "metadata": {},
     "output_type": "execute_result"
    }
   ],
   "source": [
    "#Number of investments in the top sector for USA\n",
    "top_sector_investment_C1=D1_main_sector['count'][0]\n",
    "top_sector_investment_C1"
   ]
  },
  {
   "cell_type": "code",
   "execution_count": 36,
   "metadata": {},
   "outputs": [
    {
     "data": {
      "text/plain": [
       "107"
      ]
     },
     "execution_count": 36,
     "metadata": {},
     "output_type": "execute_result"
    }
   ],
   "source": [
    "#Number of investments in the top sector for GBR\n",
    "top_sector_investment_C2=D2_main_sector['count'][0]\n",
    "top_sector_investment_C2"
   ]
  },
  {
   "cell_type": "code",
   "execution_count": 37,
   "metadata": {},
   "outputs": [
    {
     "data": {
      "text/plain": [
       "74"
      ]
     },
     "execution_count": 37,
     "metadata": {},
     "output_type": "execute_result"
    }
   ],
   "source": [
    "#Number of investments in the top sector for IND\n",
    "top_sector_investment_C3=D3_main_sector['count'][0]\n",
    "top_sector_investment_C3"
   ]
  },
  {
   "cell_type": "code",
   "execution_count": 38,
   "metadata": {},
   "outputs": [
    {
     "data": {
      "text/plain": [
       "1737"
      ]
     },
     "execution_count": 38,
     "metadata": {},
     "output_type": "execute_result"
    }
   ],
   "source": [
    "#Number of investments in the second-best sector for USA\n",
    "second_best_sector_investment_C1=D1_main_sector['count'][1]\n",
    "second_best_sector_investment_C1"
   ]
  },
  {
   "cell_type": "code",
   "execution_count": 39,
   "metadata": {},
   "outputs": [
    {
     "data": {
      "text/plain": [
       "106"
      ]
     },
     "execution_count": 39,
     "metadata": {},
     "output_type": "execute_result"
    }
   ],
   "source": [
    "#Number of investments in the second-best sector for GBR\n",
    "second_best_sector_investment_C2=D2_main_sector['count'][1]\n",
    "second_best_sector_investment_C2"
   ]
  },
  {
   "cell_type": "code",
   "execution_count": 40,
   "metadata": {},
   "outputs": [
    {
     "data": {
      "text/plain": [
       "31"
      ]
     },
     "execution_count": 40,
     "metadata": {},
     "output_type": "execute_result"
    }
   ],
   "source": [
    "#Number of investments in the second-best sector for IND\n",
    "second_best_sector_investment_C3=D3_main_sector['count'][1]\n",
    "second_best_sector_investment_C3"
   ]
  },
  {
   "cell_type": "code",
   "execution_count": 41,
   "metadata": {},
   "outputs": [
    {
     "data": {
      "text/plain": [
       "601"
      ]
     },
     "execution_count": 41,
     "metadata": {},
     "output_type": "execute_result"
    }
   ],
   "source": [
    "#Number of investments in the third-best sector for USA\n",
    "third_best_sector_investment_C1=D1_main_sector['count'][2]\n",
    "third_best_sector_investment_C1"
   ]
  },
  {
   "cell_type": "code",
   "execution_count": 42,
   "metadata": {},
   "outputs": [
    {
     "data": {
      "text/plain": [
       "31"
      ]
     },
     "execution_count": 42,
     "metadata": {},
     "output_type": "execute_result"
    }
   ],
   "source": [
    "#Number of investments in the third-best sector for GBR\n",
    "third_best_sector_investment_C2=D2_main_sector['count'][2]\n",
    "third_best_sector_investment_C2"
   ]
  },
  {
   "cell_type": "code",
   "execution_count": 43,
   "metadata": {},
   "outputs": [
    {
     "data": {
      "text/plain": [
       "14"
      ]
     },
     "execution_count": 43,
     "metadata": {},
     "output_type": "execute_result"
    }
   ],
   "source": [
    "#Number of investments in the third-best sector for IND\n",
    "third_best_sector_investment_C3=D3_main_sector['count'][3]\n",
    "third_best_sector_investment_C3"
   ]
  },
  {
   "cell_type": "code",
   "execution_count": 44,
   "metadata": {},
   "outputs": [
    {
     "data": {
      "text/plain": [
       "'Virtustream'"
      ]
     },
     "execution_count": 44,
     "metadata": {},
     "output_type": "execute_result"
    }
   ],
   "source": [
    "#For the top sector count-wise (point 3), which company received the highest investment for USA?\n",
    "top_sector_C1=D1.loc[D1['main_sector']==top_sector_count_C1]\n",
    "company_name_top_sector_C1=(top_sector_C1.groupby('name').agg({'raised_amount_usd': 'sum'})).sort_values(by='raised_amount_usd',ascending=False)\n",
    "company_name_top_C1=(company_name_top_sector_C1.reset_index())['name'][0]\n",
    "company_name_top_C1"
   ]
  },
  {
   "cell_type": "code",
   "execution_count": 45,
   "metadata": {},
   "outputs": [
    {
     "data": {
      "text/plain": [
       "'EUSA Pharma'"
      ]
     },
     "execution_count": 45,
     "metadata": {},
     "output_type": "execute_result"
    }
   ],
   "source": [
    "#For the top sector count-wise (point 3), which company received the highest investment for GBR?\n",
    "top_sector_C2=D2.loc[D2['main_sector']==top_sector_count_C2]\n",
    "company_name_top_sector_C2=(top_sector_C2.groupby('name').agg({'raised_amount_usd': 'sum'})).sort_values(by='raised_amount_usd',ascending=False)\n",
    "company_name_top_C2=(company_name_top_sector_C2.reset_index())['name'][0]\n",
    "company_name_top_C2"
   ]
  },
  {
   "cell_type": "code",
   "execution_count": 46,
   "metadata": {},
   "outputs": [
    {
     "data": {
      "text/plain": [
       "'FirstCry.com'"
      ]
     },
     "execution_count": 46,
     "metadata": {},
     "output_type": "execute_result"
    }
   ],
   "source": [
    "#For the top sector count-wise (point 3), which company received the highest investment for IND?\n",
    "top_sector_C3=D3.loc[D3['main_sector']==top_sector_count_C3]\n",
    "company_name_top_sector_C3=(top_sector_C3.groupby('name').agg({'raised_amount_usd': 'sum'})).sort_values(by='raised_amount_usd',ascending=False)\n",
    "company_name_top_C3=(company_name_top_sector_C3.reset_index())['name'][0]\n",
    "company_name_top_C3"
   ]
  },
  {
   "cell_type": "code",
   "execution_count": 47,
   "metadata": {},
   "outputs": [
    {
     "data": {
      "text/plain": [
       "'Tigo Energy'"
      ]
     },
     "execution_count": 47,
     "metadata": {},
     "output_type": "execute_result"
    }
   ],
   "source": [
    "#For the second-best sector count-wise (point 4), which company received the highest investment for USA?\n",
    "second_best_sector_C1=D1.loc[D1['main_sector']==second_best_sector_count_C1]\n",
    "company_name_second_sector_C1=(second_best_sector_C1.groupby('name').agg({'raised_amount_usd': 'sum'})).sort_values(by='raised_amount_usd',ascending=False)\n",
    "company_name_second_C1=(company_name_second_sector_C1.reset_index())['name'][0]\n",
    "company_name_second_C1"
   ]
  },
  {
   "cell_type": "code",
   "execution_count": 48,
   "metadata": {},
   "outputs": [
    {
     "data": {
      "text/plain": [
       "'Electric Cloud'"
      ]
     },
     "execution_count": 48,
     "metadata": {},
     "output_type": "execute_result"
    }
   ],
   "source": [
    "#For the second-best sector count-wise (point 4), which company received the highest investment for GBR?\n",
    "second_best_sector_C2=D2.loc[D2['main_sector']==second_best_sector_count_C2]\n",
    "company_name_second_sector_C2=(second_best_sector_C2.groupby('name').agg({'raised_amount_usd': 'sum'})).sort_values(by='raised_amount_usd',ascending=False)\n",
    "company_name_second_C2=(company_name_second_sector_C2.reset_index())['name'][0]\n",
    "company_name_second_C2"
   ]
  },
  {
   "cell_type": "code",
   "execution_count": 49,
   "metadata": {},
   "outputs": [
    {
     "data": {
      "text/plain": [
       "'GupShup'"
      ]
     },
     "execution_count": 49,
     "metadata": {},
     "output_type": "execute_result"
    }
   ],
   "source": [
    "#For the second-best sector count-wise (point 4), which company received the highest investment for IND?\n",
    "second_best_sector_C3=D3.loc[D3['main_sector']==second_best_sector_count_C3]\n",
    "company_name_second_sector_C3=(second_best_sector_C3.groupby('name').agg({'raised_amount_usd': 'sum'})).sort_values(by='raised_amount_usd',ascending=False)\n",
    "company_name_second_C3=(company_name_second_sector_C3.reset_index())['name'][0]\n",
    "company_name_second_C3"
   ]
  },
  {
   "cell_type": "markdown",
   "metadata": {},
   "source": [
    "<font color = blue>**\"Checkpoint 6: Plots\"**</font>"
   ]
  },
  {
   "cell_type": "code",
   "execution_count": 50,
   "metadata": {},
   "outputs": [
    {
     "data": {
      "image/png": "[encoded data removed]",
      "text/plain": [
       "<Figure size 1152x288 with 1 Axes>"
      ]
     },
     "metadata": {
      "needs_background": "light"
     },
     "output_type": "display_data"
    }
   ],
   "source": [
    "# Create plot for showing the fraction of total investments (globally) and the average amount of investment in  venture, seed, and private equity respectively\n",
    "total_investment_frame=pd.Series.to_frame(master_frame.groupby('funding_round_type').agg('raised_amount_usd').sum()).sort_values(by='raised_amount_usd',ascending=False).reset_index()\n",
    "total_investment_df=total_investment_frame.iloc[[0,6,1]]\n",
    "average_investment_frame=pd.Series.to_frame(master_frame.groupby('funding_round_type').agg('raised_amount_usd').mean()).sort_values(by='raised_amount_usd',ascending=False).reset_index()\n",
    "average_investment_df=average_investment_frame.iloc[[5,11,2]]\n",
    "investment_df=pd.merge(total_investment_df,average_investment_df,on='funding_round_type',how='inner')\n",
    "plt.figure(figsize=(16, 4))\n",
    "sns.set(style=\"whitegrid\")\n",
    "sns.barplot(investment_df.funding_round_type,(investment_df.raised_amount_usd_x/investment_df.raised_amount_usd_y))\n",
    "plt.title('Total amount vs average amount of investments in  venture, seed, and private equity respectively\\n',fontsize=15)\n",
    "plt.xlabel('Funding type', fontsize=12)\n",
    "plt.ylabel('Total amount vs average amount of investments', fontsize=12)\n",
    "plt.show()"
   ]
  },
  {
   "cell_type": "code",
   "execution_count": 51,
   "metadata": {},
   "outputs": [
    {
     "data": {
      "image/png": "[encoded data removed]",
      "text/plain": [
       "<Figure size 1152x288 with 1 Axes>"
      ]
     },
     "metadata": {},
     "output_type": "display_data"
    }
   ],
   "source": [
    "#The top 9 countries against the total amount of investments of venture funding type \n",
    "plt.figure(figsize=(16, 4))\n",
    "sns.set(style=\"whitegrid\")\n",
    "sns.barplot(top9.country_code,top9.raised_amount_usd)\n",
    "plt.title('Top 9 countries against the total amount of investments\\n',fontsize=15)\n",
    "plt.xlabel('Country Code', fontsize=12)\n",
    "plt.ylabel('Total amount of investments', fontsize=12)\n",
    "plt.show()"
   ]
  },
  {
   "cell_type": "code",
   "execution_count": 52,
   "metadata": {},
   "outputs": [
    {
     "data": {
      "text/plain": [
       "<Figure size 2160x720 with 0 Axes>"
      ]
     },
     "metadata": {},
     "output_type": "display_data"
    },
    {
     "data": {
      "image/png": "[encoded data removed]",
      "text/plain": [
       "<Figure size 1663.2x504 with 3 Axes>"
      ]
     },
     "metadata": {},
     "output_type": "display_data"
    }
   ],
   "source": [
    "# A plot showing the number of investments in the top 3 sectors of the top 3 countries on one chart for the venture investment type \n",
    "\n",
    "# Function to filter country code, main sectors and the count of their investments\n",
    "func={'country_code':(lambda x:x.mode()),'raised_amount_usd':'count'}\n",
    "\n",
    "# New dataframes with country code, main sectors and the total amount \n",
    "USA_sector_df=D1[['country_code','main_sector','raised_amount_usd']]\n",
    "GBR_sector_df=D2[['country_code','main_sector','raised_amount_usd']]\n",
    "IND_sector_df=D3[['country_code','main_sector','raised_amount_usd']]\n",
    "\n",
    "# Sort each country's dataframe and concat to form a single frame suitable to represent on the plot\n",
    "USA_top_sector=USA_sector_df.groupby('main_sector').agg(func).sort_values(by='raised_amount_usd',ascending=False).reset_index()\n",
    "GBR_top_sector=GBR_sector_df.groupby('main_sector').agg(func).sort_values(by='raised_amount_usd',ascending=False).reset_index()\n",
    "IND_top_sector=IND_sector_df.groupby('main_sector').agg(func).sort_values(by='raised_amount_usd',ascending=False).reset_index()\n",
    "USA_top_3_sector=USA_top_sector.iloc[[0,1,2]]\n",
    "GBR_top_3_sector=GBR_top_sector.iloc[[0,1,2]]\n",
    "IND_top_3_sector=IND_top_sector.iloc[[0,1,2]]\n",
    "top_3_sector=[USA_top_3_sector,GBR_top_3_sector,IND_top_3_sector]\n",
    "top_3_sector_countries=pd.concat(top_3_sector)\n",
    "\n",
    "# Plot the chart to represent the top 3 sectors for each country\n",
    "plt.figure(figsize=(30, 10))\n",
    "sns.set(style=\"whitegrid\")\n",
    "#sns.catplot(x='main_sector', y='raised_amount_usd', hue='country_code', col='country_code',kind=\"bar\",data=top_3_sector_countries)\n",
    "g=sns.catplot(x=\"main_sector\",y=\"raised_amount_usd\",hue='country_code',col='country_code',data=top_3_sector_countries,kind=\"bar\",height=7,aspect=1.1)\n",
    "g.set_axis_labels(\"Main sectors\",\"Total Investment\").orient=\"h\""
   ]
  },
  {
   "cell_type": "code",
   "execution_count": null,
   "metadata": {},
   "outputs": [],
   "source": []
  },
  {
   "cell_type": "code",
   "execution_count": null,
   "metadata": {},
   "outputs": [],
   "source": []
  }
 ],
 "metadata": {
  "kernelspec": {
   "display_name": "Python 3",
   "language": "python",
   "name": "python3"
  },
  "language_info": {
   "codemirror_mode": {
    "name": "ipython",
    "version": 3
   },
   "file_extension": ".py",
   "mimetype": "text/x-python",
   "name": "python",
   "nbconvert_exporter": "python",
   "pygments_lexer": "ipython3",
   "version": "3.7.4"
  }
 },
 "nbformat": 4,
 "nbformat_minor": 2
}
