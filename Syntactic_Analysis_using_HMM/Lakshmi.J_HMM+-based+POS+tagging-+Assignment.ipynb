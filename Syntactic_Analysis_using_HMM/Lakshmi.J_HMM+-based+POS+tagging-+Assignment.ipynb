{
 "cells": [
  {
   "cell_type": "markdown",
   "metadata": {},
   "source": [
    "## POS tagging using modified Viterbi"
   ]
  },
  {
   "cell_type": "markdown",
   "metadata": {},
   "source": [
    "### Data Preparation"
   ]
  },
  {
   "cell_type": "code",
   "execution_count": 1,
   "metadata": {},
   "outputs": [],
   "source": [
    "#Importing libraries\n",
    "import nltk\n",
    "from sklearn.model_selection import train_test_split\n",
    "import pandas as pd\n",
    "import numpy as np\n",
    "import matplotlib.pyplot as plt\n",
    "import seaborn as sns\n",
    "from collections import Counter\n",
    "import time\n",
    "from nltk.tokenize import word_tokenize\n",
    "from functools import reduce\n",
    "import random\n",
    "import re"
   ]
  },
  {
   "cell_type": "code",
   "execution_count": 2,
   "metadata": {},
   "outputs": [],
   "source": [
    "# nltk.download('averaged_perceptron_tagger')"
   ]
  },
  {
   "cell_type": "code",
   "execution_count": 3,
   "metadata": {},
   "outputs": [
    {
     "name": "stdout",
     "output_type": "stream",
     "text": [
      "[('Lorillard', 'NOUN'), ('Inc.', 'NOUN'), (',', '.'), ('the', 'DET'), ('unit', 'NOUN'), ('of', 'ADP'), ('New', 'ADJ'), ('York-based', 'ADJ'), ('Loews', 'NOUN'), ('Corp.', 'NOUN'), ('that', 'DET'), ('*T*-2', 'X'), ('makes', 'VERB'), ('Kent', 'NOUN'), ('cigarettes', 'NOUN'), (',', '.'), ('stopped', 'VERB'), ('using', 'VERB'), ('crocidolite', 'NOUN'), ('in', 'ADP'), ('its', 'PRON'), ('Micronite', 'NOUN'), ('cigarette', 'NOUN'), ('filters', 'NOUN'), ('in', 'ADP'), ('1956', 'NUM'), ('.', '.')]\n"
     ]
    }
   ],
   "source": [
    "# reading the Treebank tagged sentences\n",
    "nltk_data = list(nltk.corpus.treebank.tagged_sents(tagset='universal'))\n",
    "print(nltk_data[5])"
   ]
  },
  {
   "cell_type": "code",
   "execution_count": 4,
   "metadata": {},
   "outputs": [],
   "source": [
    "#help(nltk.corpus.treebank.tagged_sents(tagset='universal'))"
   ]
  },
  {
   "cell_type": "code",
   "execution_count": 5,
   "metadata": {},
   "outputs": [],
   "source": [
    "# splitting Treebank dataset into train & validation set in the ratio of 95:5 %\n",
    "random.seed(0)\n",
    "train_set, validation_set = train_test_split(nltk_data,train_size=0.95,test_size=0.05,random_state=50)"
   ]
  },
  {
   "cell_type": "code",
   "execution_count": 6,
   "metadata": {},
   "outputs": [
    {
     "data": {
      "text/plain": [
       "[[('The', 'DET'),\n",
       "  ('problem', 'NOUN'),\n",
       "  ('involves', 'VERB'),\n",
       "  ('the', 'DET'),\n",
       "  ('motion', 'NOUN'),\n",
       "  ('of', 'ADP'),\n",
       "  ('small', 'ADJ'),\n",
       "  ('magnetic', 'ADJ'),\n",
       "  ('fields', 'NOUN'),\n",
       "  ('within', 'ADP'),\n",
       "  ('superconductor', 'NOUN'),\n",
       "  ('crystals', 'NOUN'),\n",
       "  (',', '.'),\n",
       "  ('*', 'X'),\n",
       "  ('limiting', 'VERB'),\n",
       "  ('their', 'PRON'),\n",
       "  ('current-carrying', 'ADJ'),\n",
       "  ('capacity', 'NOUN'),\n",
       "  ('.', '.')],\n",
       " [('The', 'DET'),\n",
       "  ('company', 'NOUN'),\n",
       "  ('also', 'ADV'),\n",
       "  ('disclosed', 'VERB'),\n",
       "  ('that', 'ADP'),\n",
       "  ('during', 'ADP'),\n",
       "  ('that', 'DET'),\n",
       "  ('period', 'NOUN'),\n",
       "  ('it', 'PRON'),\n",
       "  ('offered', 'VERB'),\n",
       "  ('10,000', 'NUM'),\n",
       "  ('yen', 'NOUN'),\n",
       "  (',', '.'),\n",
       "  ('or', 'CONJ'),\n",
       "  ('about', 'ADV'),\n",
       "  ('$', '.'),\n",
       "  ('70', 'NUM'),\n",
       "  ('*U*', 'X'),\n",
       "  (',', '.'),\n",
       "  ('for', 'ADP'),\n",
       "  ('another', 'DET'),\n",
       "  ('contract', 'NOUN'),\n",
       "  ('.', '.')],\n",
       " [('Volume', 'NOUN'),\n",
       "  ('totaled', 'VERB'),\n",
       "  ('11,390,000', 'NUM'),\n",
       "  ('shares', 'NOUN'),\n",
       "  ('.', '.')]]"
      ]
     },
     "execution_count": 6,
     "metadata": {},
     "output_type": "execute_result"
    }
   ],
   "source": [
    "train_set[:3]"
   ]
  },
  {
   "cell_type": "code",
   "execution_count": 7,
   "metadata": {},
   "outputs": [
    {
     "data": {
      "text/plain": [
       "[[('Editorials', 'NOUN'),\n",
       "  ('in', 'ADP'),\n",
       "  ('the', 'DET'),\n",
       "  ('Greenville', 'NOUN'),\n",
       "  ('newspaper', 'NOUN'),\n",
       "  ('allowed', 'VERB'),\n",
       "  ('that', 'ADP'),\n",
       "  ('Mrs.', 'NOUN'),\n",
       "  ('Yeargin', 'NOUN'),\n",
       "  ('was', 'VERB'),\n",
       "  ('wrong', 'ADJ'),\n",
       "  (',', '.'),\n",
       "  ('but', 'CONJ'),\n",
       "  ('also', 'ADV'),\n",
       "  ('said', 'VERB'),\n",
       "  ('0', 'X'),\n",
       "  ('the', 'DET'),\n",
       "  ('case', 'NOUN'),\n",
       "  ('showed', 'VERB'),\n",
       "  ('how', 'ADV'),\n",
       "  ('testing', 'NOUN'),\n",
       "  ('was', 'VERB'),\n",
       "  ('being', 'VERB'),\n",
       "  ('overused', 'VERB'),\n",
       "  ('*-2', 'X'),\n",
       "  ('*T*-1', 'X'),\n",
       "  ('.', '.')],\n",
       " [('--', '.'),\n",
       "  ('And', 'CONJ'),\n",
       "  ('the', 'DET'),\n",
       "  ('USIA', 'NOUN'),\n",
       "  ('said', 'VERB'),\n",
       "  ('that', 'ADP'),\n",
       "  ('all', 'DET'),\n",
       "  ('of', 'ADP'),\n",
       "  ('us', 'PRON'),\n",
       "  ('could', 'VERB'),\n",
       "  ('take', 'VERB'),\n",
       "  ('extensive', 'ADJ'),\n",
       "  ('notes', 'NOUN'),\n",
       "  ('.', '.')],\n",
       " [('Meanwhile', 'ADV'),\n",
       "  (',', '.'),\n",
       "  ('many', 'ADJ'),\n",
       "  ('market', 'NOUN'),\n",
       "  ('watchers', 'NOUN'),\n",
       "  ('say', 'VERB'),\n",
       "  ('0', 'X'),\n",
       "  ('recent', 'ADJ'),\n",
       "  ('dividend', 'NOUN'),\n",
       "  ('trends', 'NOUN'),\n",
       "  ('raise', 'VERB'),\n",
       "  ('another', 'DET'),\n",
       "  ('warning', 'NOUN'),\n",
       "  ('flag', 'NOUN'),\n",
       "  (':', '.'),\n",
       "  ('While', 'ADP'),\n",
       "  ('dividends', 'NOUN'),\n",
       "  ('have', 'VERB'),\n",
       "  ('risen', 'VERB'),\n",
       "  ('smartly', 'ADV'),\n",
       "  (',', '.'),\n",
       "  ('their', 'PRON'),\n",
       "  ('expansion', 'NOUN'),\n",
       "  ('has', 'VERB'),\n",
       "  (\"n't\", 'ADV'),\n",
       "  ('kept', 'VERB'),\n",
       "  ('pace', 'NOUN'),\n",
       "  ('with', 'ADP'),\n",
       "  ('even', 'ADJ'),\n",
       "  ('stronger', 'ADJ'),\n",
       "  ('advances', 'NOUN'),\n",
       "  ('in', 'ADP'),\n",
       "  ('stock', 'NOUN'),\n",
       "  ('prices', 'NOUN'),\n",
       "  ('.', '.')]]"
      ]
     },
     "execution_count": 7,
     "metadata": {},
     "output_type": "execute_result"
    }
   ],
   "source": [
    "validation_set[:3]"
   ]
  },
  {
   "cell_type": "code",
   "execution_count": 8,
   "metadata": {},
   "outputs": [
    {
     "name": "stdout",
     "output_type": "stream",
     "text": [
      "Dataset size-> Complete dataset: 3914, Training:3718, Validation: 196\n"
     ]
    }
   ],
   "source": [
    "print(\"Dataset size-> Complete dataset: {}, Training:{}, Validation: {}\".format(len(nltk_data),len(train_set),len(validation_set)))"
   ]
  },
  {
   "cell_type": "code",
   "execution_count": 9,
   "metadata": {},
   "outputs": [
    {
     "data": {
      "text/plain": [
       "95421"
      ]
     },
     "execution_count": 9,
     "metadata": {},
     "output_type": "execute_result"
    }
   ],
   "source": [
    "# Getting list of tagged words\n",
    "tagged_train_words=[tup for sentence in train_set for tup in sentence]\n",
    "len(tagged_train_words)"
   ]
  },
  {
   "cell_type": "markdown",
   "metadata": {},
   "source": [
    "**Vocabulary**"
   ]
  },
  {
   "cell_type": "code",
   "execution_count": 10,
   "metadata": {},
   "outputs": [
    {
     "name": "stdout",
     "output_type": "stream",
     "text": [
      "12059\n"
     ]
    }
   ],
   "source": [
    "# tokens \n",
    "tokens = [pair[0] for pair in tagged_train_words]\n",
    "tokens[:10]\n",
    "# vocabulary\n",
    "V = set(tokens)\n",
    "print(len(V))"
   ]
  },
  {
   "cell_type": "markdown",
   "metadata": {},
   "source": [
    "**Tags**"
   ]
  },
  {
   "cell_type": "code",
   "execution_count": 11,
   "metadata": {},
   "outputs": [
    {
     "name": "stdout",
     "output_type": "stream",
     "text": [
      "12\n",
      "{'VERB', 'X', '.', 'CONJ', 'PRT', 'ADP', 'NOUN', 'ADJ', 'ADV', 'DET', 'NUM', 'PRON'}\n"
     ]
    }
   ],
   "source": [
    "# number of tags\n",
    "T = set([pair[1] for pair in tagged_train_words])\n",
    "print(len(T))\n",
    "print(T)"
   ]
  },
  {
   "cell_type": "markdown",
   "metadata": {},
   "source": [
    "### Build the vanilla Viterbi based POS tagger"
   ]
  },
  {
   "cell_type": "markdown",
   "metadata": {},
   "source": [
    "#### Emission Probabilities"
   ]
  },
  {
   "cell_type": "code",
   "execution_count": 12,
   "metadata": {},
   "outputs": [],
   "source": [
    "# computing P(w/t) and storing in T x V matrix\n",
    "t = len(T)\n",
    "v = len(V)\n",
    "w_given_t = np.zeros((t, v))"
   ]
  },
  {
   "cell_type": "code",
   "execution_count": 13,
   "metadata": {},
   "outputs": [],
   "source": [
    "# compute word given tag: Emission Probability\n",
    "def word_given_tag(word, tag, train_bag = tagged_train_words):\n",
    "    tag_list = [pair for pair in train_bag if pair[1]==tag]\n",
    "    count_tag = len(tag_list)\n",
    "    w_given_tag_list = [pair[0] for pair in tag_list if pair[0]==word]\n",
    "    count_w_given_tag = len(w_given_tag_list)\n",
    "    \n",
    "    return (count_w_given_tag, count_tag)"
   ]
  },
  {
   "cell_type": "code",
   "execution_count": 14,
   "metadata": {},
   "outputs": [
    {
     "name": "stdout",
     "output_type": "stream",
     "text": [
      "\n",
      " however\n",
      "(24, 3002)\n",
      "(0, 12845)\n",
      "(0, 27356) \n",
      "\n",
      "\n",
      " Temple\n",
      "(0, 2609)\n",
      "(9, 27356)\n",
      "(0, 3002) \n",
      "\n"
     ]
    }
   ],
   "source": [
    "# examples\n",
    "\n",
    "# However\n",
    "print(\"\\n\", \"however\")\n",
    "print(word_given_tag('however', 'ADV'))\n",
    "print(word_given_tag('however', 'VERB'))\n",
    "print(word_given_tag('however', 'NOUN'), \"\\n\")\n",
    "\n",
    "# Temple\n",
    "print(\"\\n\", \"Temple\")\n",
    "print(word_given_tag('Temple', 'PRON'))\n",
    "print(word_given_tag('Temple', 'NOUN'))\n",
    "print(word_given_tag('Temple', 'ADV'), \"\\n\")"
   ]
  },
  {
   "cell_type": "markdown",
   "metadata": {},
   "source": [
    "#### Transition Probabilities"
   ]
  },
  {
   "cell_type": "code",
   "execution_count": 15,
   "metadata": {},
   "outputs": [],
   "source": [
    "# compute tag given tag: tag2(t2) given tag1 (t1), i.e. Transition Probability\n",
    "\n",
    "def t2_given_t1(t2, t1, train_bag = tagged_train_words):\n",
    "    tags = [pair[1] for pair in train_bag]\n",
    "    count_t1 = len([t for t in tags if t==t1])\n",
    "    count_t2_t1 = 0\n",
    "    for index in range(len(tags)-1):\n",
    "        if tags[index]==t1 and tags[index+1] == t2:\n",
    "            count_t2_t1 += 1\n",
    "    return (count_t2_t1, count_t1)"
   ]
  },
  {
   "cell_type": "code",
   "execution_count": 16,
   "metadata": {},
   "outputs": [
    {
     "name": "stdout",
     "output_type": "stream",
     "text": [
      "(132, 2139)\n",
      "(4217, 6031)\n",
      "(5285, 8279)\n",
      "(1933, 11152)\n",
      "(349, 6268)\n",
      "(1180, 3359)\n"
     ]
    }
   ],
   "source": [
    "# examples\n",
    "print(t2_given_t1(t2='PRON', t1='CONJ'))\n",
    "print(t2_given_t1('NOUN', 'ADJ'))\n",
    "print(t2_given_t1('NOUN', 'DET'))\n",
    "\n",
    "print(t2_given_t1('DET', '.'))\n",
    "print(t2_given_t1('PRON', 'X'))\n",
    "print(t2_given_t1('NOUN', 'NUM'))"
   ]
  },
  {
   "cell_type": "code",
   "execution_count": 17,
   "metadata": {},
   "outputs": [],
   "source": [
    "# creating t x t transition matrix of tags\n",
    "# each column is t2, each row is t1\n",
    "# thus M(i, j) represents P(tj given ti)\n",
    "\n",
    "tags_matrix = np.zeros((len(T), len(T)), dtype='float32')\n",
    "for i, t1 in enumerate(list(T)):\n",
    "    for j, t2 in enumerate(list(T)): \n",
    "        tags_matrix[i, j] = t2_given_t1(t2, t1)[0]/t2_given_t1(t2, t1)[1]"
   ]
  },
  {
   "cell_type": "code",
   "execution_count": 18,
   "metadata": {},
   "outputs": [
    {
     "data": {
      "text/plain": [
       "array([[1.69015184e-01, 2.17983648e-01, 3.47995311e-02, 5.29388851e-03,\n",
       "        3.11405212e-02, 9.15531367e-02, 1.10782407e-01, 6.53950945e-02,\n",
       "        8.10432062e-02, 1.34293497e-01, 2.30439864e-02, 3.56558971e-02],\n",
       "       [2.03892782e-01, 7.51435831e-02, 1.64326742e-01, 1.06892148e-02,\n",
       "        1.84428841e-01, 1.44065097e-01, 6.26994222e-02, 1.57945119e-02,\n",
       "        2.55264845e-02, 5.48819415e-02, 2.87172943e-03, 5.56796417e-02],\n",
       "       [8.85939747e-02, 2.72596851e-02, 9.32568163e-02, 5.76578192e-02,\n",
       "        2.42109038e-03, 9.08357278e-02, 2.22919658e-01, 4.51040156e-02,\n",
       "        5.21879494e-02, 1.73332140e-01, 8.08823556e-02, 6.54591098e-02],\n",
       "       [1.54745206e-01, 7.94763863e-03, 3.45956050e-02, 4.67508187e-04,\n",
       "        4.67508193e-03, 5.32959327e-02, 3.51566166e-01, 1.17812060e-01,\n",
       "        5.28284237e-02, 1.18747078e-01, 4.16082293e-02, 6.17110804e-02],\n",
       "       [4.03029293e-01, 1.41587090e-02, 4.34639454e-02, 1.64636155e-03,\n",
       "        1.97563390e-03, 2.00856104e-02, 2.46954232e-01, 8.29766244e-02,\n",
       "        9.54889692e-03, 1.00428052e-01, 5.82811981e-02, 1.74514316e-02],\n",
       "       [8.34760256e-03, 3.49957198e-02, 3.94905806e-02, 8.56164377e-04,\n",
       "        1.39126717e-03, 1.68022253e-02, 3.21810782e-01, 1.04880139e-01,\n",
       "        1.41267125e-02, 3.25556517e-01, 6.15368150e-02, 7.02054799e-02],\n",
       "       [1.46329880e-01, 2.88784914e-02, 2.41373003e-01, 4.24769707e-02,\n",
       "        4.35370654e-02, 1.76853344e-01, 2.64037132e-01, 1.20266117e-02,\n",
       "        1.73270945e-02, 1.30501539e-02, 9.46775824e-03, 4.64249169e-03],\n",
       "       [1.19383186e-02, 2.07262486e-02, 6.66556135e-02, 1.65809989e-02,\n",
       "        1.02802189e-02, 7.79306889e-02, 6.99220717e-01, 6.58265650e-02,\n",
       "        4.97429958e-03, 4.97429958e-03, 2.02288181e-02, 6.63239916e-04],\n",
       "       [3.45769495e-01, 2.29846761e-02, 1.34910062e-01, 6.99533662e-03,\n",
       "        1.46568958e-02, 1.19586945e-01, 3.16455700e-02, 1.28914058e-01,\n",
       "        7.96135888e-02, 6.86209202e-02, 3.16455700e-02, 1.46568958e-02],\n",
       "       [4.03430350e-02, 4.50537503e-02, 1.76349804e-02, 4.83150128e-04,\n",
       "        2.41575064e-04, 9.17985290e-03, 6.38362110e-01, 2.04493299e-01,\n",
       "        1.26826912e-02, 5.67701412e-03, 2.22249068e-02, 3.62362596e-03],\n",
       "       [1.72670446e-02, 2.11074725e-01, 1.18189938e-01, 1.39922593e-02,\n",
       "        2.79845186e-02, 3.48317958e-02, 3.51295024e-01, 3.24501358e-02,\n",
       "        2.67936895e-03, 2.97707645e-03, 1.85769573e-01, 1.48853823e-03],\n",
       "       [4.86776531e-01, 9.19892713e-02, 4.10118811e-02, 4.98275179e-03,\n",
       "        1.22652361e-02, 2.29973178e-02, 2.08892301e-01, 7.28248358e-02,\n",
       "        3.37293968e-02, 9.58221499e-03, 6.89919526e-03, 8.04906059e-03]],\n",
       "      dtype=float32)"
      ]
     },
     "execution_count": 18,
     "metadata": {},
     "output_type": "execute_result"
    }
   ],
   "source": [
    "tags_matrix"
   ]
  },
  {
   "cell_type": "code",
   "execution_count": 19,
   "metadata": {},
   "outputs": [
    {
     "data": {
      "text/html": [
       "<div>\n",
       "<style scoped>\n",
       "    .dataframe tbody tr th:only-of-type {\n",
       "        vertical-align: middle;\n",
       "    }\n",
       "\n",
       "    .dataframe tbody tr th {\n",
       "        vertical-align: top;\n",
       "    }\n",
       "\n",
       "    .dataframe thead th {\n",
       "        text-align: right;\n",
       "    }\n",
       "</style>\n",
       "<table border=\"1\" class=\"dataframe\">\n",
       "  <thead>\n",
       "    <tr style=\"text-align: right;\">\n",
       "      <th></th>\n",
       "      <th>VERB</th>\n",
       "      <th>X</th>\n",
       "      <th>.</th>\n",
       "      <th>CONJ</th>\n",
       "      <th>PRT</th>\n",
       "      <th>ADP</th>\n",
       "      <th>NOUN</th>\n",
       "      <th>ADJ</th>\n",
       "      <th>ADV</th>\n",
       "      <th>DET</th>\n",
       "      <th>NUM</th>\n",
       "      <th>PRON</th>\n",
       "    </tr>\n",
       "  </thead>\n",
       "  <tbody>\n",
       "    <tr>\n",
       "      <th>VERB</th>\n",
       "      <td>0.169015</td>\n",
       "      <td>0.217984</td>\n",
       "      <td>0.034800</td>\n",
       "      <td>0.005294</td>\n",
       "      <td>0.031141</td>\n",
       "      <td>0.091553</td>\n",
       "      <td>0.110782</td>\n",
       "      <td>0.065395</td>\n",
       "      <td>0.081043</td>\n",
       "      <td>0.134293</td>\n",
       "      <td>0.023044</td>\n",
       "      <td>0.035656</td>\n",
       "    </tr>\n",
       "    <tr>\n",
       "      <th>X</th>\n",
       "      <td>0.203893</td>\n",
       "      <td>0.075144</td>\n",
       "      <td>0.164327</td>\n",
       "      <td>0.010689</td>\n",
       "      <td>0.184429</td>\n",
       "      <td>0.144065</td>\n",
       "      <td>0.062699</td>\n",
       "      <td>0.015795</td>\n",
       "      <td>0.025526</td>\n",
       "      <td>0.054882</td>\n",
       "      <td>0.002872</td>\n",
       "      <td>0.055680</td>\n",
       "    </tr>\n",
       "    <tr>\n",
       "      <th>.</th>\n",
       "      <td>0.088594</td>\n",
       "      <td>0.027260</td>\n",
       "      <td>0.093257</td>\n",
       "      <td>0.057658</td>\n",
       "      <td>0.002421</td>\n",
       "      <td>0.090836</td>\n",
       "      <td>0.222920</td>\n",
       "      <td>0.045104</td>\n",
       "      <td>0.052188</td>\n",
       "      <td>0.173332</td>\n",
       "      <td>0.080882</td>\n",
       "      <td>0.065459</td>\n",
       "    </tr>\n",
       "    <tr>\n",
       "      <th>CONJ</th>\n",
       "      <td>0.154745</td>\n",
       "      <td>0.007948</td>\n",
       "      <td>0.034596</td>\n",
       "      <td>0.000468</td>\n",
       "      <td>0.004675</td>\n",
       "      <td>0.053296</td>\n",
       "      <td>0.351566</td>\n",
       "      <td>0.117812</td>\n",
       "      <td>0.052828</td>\n",
       "      <td>0.118747</td>\n",
       "      <td>0.041608</td>\n",
       "      <td>0.061711</td>\n",
       "    </tr>\n",
       "    <tr>\n",
       "      <th>PRT</th>\n",
       "      <td>0.403029</td>\n",
       "      <td>0.014159</td>\n",
       "      <td>0.043464</td>\n",
       "      <td>0.001646</td>\n",
       "      <td>0.001976</td>\n",
       "      <td>0.020086</td>\n",
       "      <td>0.246954</td>\n",
       "      <td>0.082977</td>\n",
       "      <td>0.009549</td>\n",
       "      <td>0.100428</td>\n",
       "      <td>0.058281</td>\n",
       "      <td>0.017451</td>\n",
       "    </tr>\n",
       "    <tr>\n",
       "      <th>ADP</th>\n",
       "      <td>0.008348</td>\n",
       "      <td>0.034996</td>\n",
       "      <td>0.039491</td>\n",
       "      <td>0.000856</td>\n",
       "      <td>0.001391</td>\n",
       "      <td>0.016802</td>\n",
       "      <td>0.321811</td>\n",
       "      <td>0.104880</td>\n",
       "      <td>0.014127</td>\n",
       "      <td>0.325557</td>\n",
       "      <td>0.061537</td>\n",
       "      <td>0.070205</td>\n",
       "    </tr>\n",
       "    <tr>\n",
       "      <th>NOUN</th>\n",
       "      <td>0.146330</td>\n",
       "      <td>0.028878</td>\n",
       "      <td>0.241373</td>\n",
       "      <td>0.042477</td>\n",
       "      <td>0.043537</td>\n",
       "      <td>0.176853</td>\n",
       "      <td>0.264037</td>\n",
       "      <td>0.012027</td>\n",
       "      <td>0.017327</td>\n",
       "      <td>0.013050</td>\n",
       "      <td>0.009468</td>\n",
       "      <td>0.004642</td>\n",
       "    </tr>\n",
       "    <tr>\n",
       "      <th>ADJ</th>\n",
       "      <td>0.011938</td>\n",
       "      <td>0.020726</td>\n",
       "      <td>0.066656</td>\n",
       "      <td>0.016581</td>\n",
       "      <td>0.010280</td>\n",
       "      <td>0.077931</td>\n",
       "      <td>0.699221</td>\n",
       "      <td>0.065827</td>\n",
       "      <td>0.004974</td>\n",
       "      <td>0.004974</td>\n",
       "      <td>0.020229</td>\n",
       "      <td>0.000663</td>\n",
       "    </tr>\n",
       "    <tr>\n",
       "      <th>ADV</th>\n",
       "      <td>0.345769</td>\n",
       "      <td>0.022985</td>\n",
       "      <td>0.134910</td>\n",
       "      <td>0.006995</td>\n",
       "      <td>0.014657</td>\n",
       "      <td>0.119587</td>\n",
       "      <td>0.031646</td>\n",
       "      <td>0.128914</td>\n",
       "      <td>0.079614</td>\n",
       "      <td>0.068621</td>\n",
       "      <td>0.031646</td>\n",
       "      <td>0.014657</td>\n",
       "    </tr>\n",
       "    <tr>\n",
       "      <th>DET</th>\n",
       "      <td>0.040343</td>\n",
       "      <td>0.045054</td>\n",
       "      <td>0.017635</td>\n",
       "      <td>0.000483</td>\n",
       "      <td>0.000242</td>\n",
       "      <td>0.009180</td>\n",
       "      <td>0.638362</td>\n",
       "      <td>0.204493</td>\n",
       "      <td>0.012683</td>\n",
       "      <td>0.005677</td>\n",
       "      <td>0.022225</td>\n",
       "      <td>0.003624</td>\n",
       "    </tr>\n",
       "    <tr>\n",
       "      <th>NUM</th>\n",
       "      <td>0.017267</td>\n",
       "      <td>0.211075</td>\n",
       "      <td>0.118190</td>\n",
       "      <td>0.013992</td>\n",
       "      <td>0.027985</td>\n",
       "      <td>0.034832</td>\n",
       "      <td>0.351295</td>\n",
       "      <td>0.032450</td>\n",
       "      <td>0.002679</td>\n",
       "      <td>0.002977</td>\n",
       "      <td>0.185770</td>\n",
       "      <td>0.001489</td>\n",
       "    </tr>\n",
       "    <tr>\n",
       "      <th>PRON</th>\n",
       "      <td>0.486777</td>\n",
       "      <td>0.091989</td>\n",
       "      <td>0.041012</td>\n",
       "      <td>0.004983</td>\n",
       "      <td>0.012265</td>\n",
       "      <td>0.022997</td>\n",
       "      <td>0.208892</td>\n",
       "      <td>0.072825</td>\n",
       "      <td>0.033729</td>\n",
       "      <td>0.009582</td>\n",
       "      <td>0.006899</td>\n",
       "      <td>0.008049</td>\n",
       "    </tr>\n",
       "  </tbody>\n",
       "</table>\n",
       "</div>"
      ],
      "text/plain": [
       "          VERB         X         .      CONJ       PRT       ADP      NOUN  \\\n",
       "VERB  0.169015  0.217984  0.034800  0.005294  0.031141  0.091553  0.110782   \n",
       "X     0.203893  0.075144  0.164327  0.010689  0.184429  0.144065  0.062699   \n",
       ".     0.088594  0.027260  0.093257  0.057658  0.002421  0.090836  0.222920   \n",
       "CONJ  0.154745  0.007948  0.034596  0.000468  0.004675  0.053296  0.351566   \n",
       "PRT   0.403029  0.014159  0.043464  0.001646  0.001976  0.020086  0.246954   \n",
       "ADP   0.008348  0.034996  0.039491  0.000856  0.001391  0.016802  0.321811   \n",
       "NOUN  0.146330  0.028878  0.241373  0.042477  0.043537  0.176853  0.264037   \n",
       "ADJ   0.011938  0.020726  0.066656  0.016581  0.010280  0.077931  0.699221   \n",
       "ADV   0.345769  0.022985  0.134910  0.006995  0.014657  0.119587  0.031646   \n",
       "DET   0.040343  0.045054  0.017635  0.000483  0.000242  0.009180  0.638362   \n",
       "NUM   0.017267  0.211075  0.118190  0.013992  0.027985  0.034832  0.351295   \n",
       "PRON  0.486777  0.091989  0.041012  0.004983  0.012265  0.022997  0.208892   \n",
       "\n",
       "           ADJ       ADV       DET       NUM      PRON  \n",
       "VERB  0.065395  0.081043  0.134293  0.023044  0.035656  \n",
       "X     0.015795  0.025526  0.054882  0.002872  0.055680  \n",
       ".     0.045104  0.052188  0.173332  0.080882  0.065459  \n",
       "CONJ  0.117812  0.052828  0.118747  0.041608  0.061711  \n",
       "PRT   0.082977  0.009549  0.100428  0.058281  0.017451  \n",
       "ADP   0.104880  0.014127  0.325557  0.061537  0.070205  \n",
       "NOUN  0.012027  0.017327  0.013050  0.009468  0.004642  \n",
       "ADJ   0.065827  0.004974  0.004974  0.020229  0.000663  \n",
       "ADV   0.128914  0.079614  0.068621  0.031646  0.014657  \n",
       "DET   0.204493  0.012683  0.005677  0.022225  0.003624  \n",
       "NUM   0.032450  0.002679  0.002977  0.185770  0.001489  \n",
       "PRON  0.072825  0.033729  0.009582  0.006899  0.008049  "
      ]
     },
     "execution_count": 19,
     "metadata": {},
     "output_type": "execute_result"
    }
   ],
   "source": [
    "# convert the tags matrix to a dataframe for better readability\n",
    "tags_df = pd.DataFrame(tags_matrix, columns = list(T), index=list(T))\n",
    "tags_df"
   ]
  },
  {
   "cell_type": "code",
   "execution_count": 20,
   "metadata": {},
   "outputs": [
    {
     "data": {
      "image/png": "[encoded data removed]",
      "text/plain": [
       "<Figure size 1296x864 with 2 Axes>"
      ]
     },
     "metadata": {
      "needs_background": "light"
     },
     "output_type": "display_data"
    }
   ],
   "source": [
    "# heatmap of tags matrix\n",
    "# T(i, j) indicates P(tag j given tag i)\n",
    "plt.figure(figsize=(18, 12))\n",
    "sns.heatmap(tags_df)\n",
    "plt.show()"
   ]
  },
  {
   "cell_type": "code",
   "execution_count": 21,
   "metadata": {},
   "outputs": [
    {
     "data": {
      "image/png": "[encoded data removed]",
      "text/plain": [
       "<Figure size 1296x864 with 2 Axes>"
      ]
     },
     "metadata": {
      "needs_background": "light"
     },
     "output_type": "display_data"
    }
   ],
   "source": [
    "# frequent tags\n",
    "# filter the df to get P(t2, t1) > 0.5\n",
    "tags_frequent = tags_df[tags_df>0.5]\n",
    "plt.figure(figsize=(18, 12))\n",
    "sns.heatmap(tags_frequent)\n",
    "plt.show()"
   ]
  },
  {
   "cell_type": "markdown",
   "metadata": {},
   "source": [
    "It is seen from the heat map that there is an association with determinant-noun pair and adjective-noun pair as they have a probability greater than 0.5. This shows that the training set has more number of determinant-noun and adjective-noun pairs in it."
   ]
  },
  {
   "cell_type": "markdown",
   "metadata": {},
   "source": [
    "### Original Viterbi Algorithm"
   ]
  },
  {
   "cell_type": "code",
   "execution_count": 22,
   "metadata": {},
   "outputs": [],
   "source": [
    "# Viterbi Heuristic\n",
    "def Viterbi(words, train_bag = tagged_train_words):\n",
    "    state = []\n",
    "    T = list(set([pair[1] for pair in train_bag]))\n",
    "    \n",
    "    for key, word in enumerate(words):\n",
    "        #initialise list of probability column for a given observation\n",
    "        p = [] \n",
    "        for tag in T:\n",
    "            if key == 0:\n",
    "                transition_p = tags_df.loc['.', tag]\n",
    "            else:\n",
    "                transition_p = tags_df.loc[state[-1], tag]\n",
    "                \n",
    "            # compute emission and state probabilities\n",
    "            emission_p = word_given_tag(words[key], tag)[0]/word_given_tag(words[key], tag)[1]\n",
    "            state_probability = emission_p * transition_p    \n",
    "            p.append(state_probability)\n",
    "            \n",
    "        pmax = max(p)\n",
    "        # getting state for which probability is maximum\n",
    "        state_max = T[p.index(pmax)] \n",
    "        state.append(state_max)\n",
    "    return list(zip(words, state))\n",
    "\n"
   ]
  },
  {
   "cell_type": "markdown",
   "metadata": {},
   "source": [
    "#### Evaluating on Validation Set"
   ]
  },
  {
   "cell_type": "code",
   "execution_count": 23,
   "metadata": {},
   "outputs": [],
   "source": [
    "# choose random 5 sents\n",
    "rndom = [random.randint(1,len(validation_set)) for x in range(5)]\n",
    "\n",
    "# list of sents\n",
    "validation_run = [validation_set[i] for i in rndom]"
   ]
  },
  {
   "cell_type": "code",
   "execution_count": 24,
   "metadata": {},
   "outputs": [
    {
     "data": {
      "text/plain": [
       "[('Trading', 'NOUN'),\n",
       " ('was', 'VERB'),\n",
       " ('muted', 'VERB'),\n",
       " ('*-1', 'X'),\n",
       " ('in', 'ADP'),\n",
       " ('part', 'NOUN'),\n",
       " ('because', 'ADP'),\n",
       " ('of', 'ADP'),\n",
       " ('the', 'DET'),\n",
       " ('observance', 'NOUN'),\n",
       " ('of', 'ADP'),\n",
       " ('All', 'NOUN'),\n",
       " ('Saints', 'NOUN'),\n",
       " (\"'\", 'PRT'),\n",
       " ('Day', 'NOUN'),\n",
       " ('across', 'ADP'),\n",
       " ('much', 'ADJ'),\n",
       " ('of', 'ADP'),\n",
       " ('Europe', 'NOUN'),\n",
       " ('.', '.'),\n",
       " ('In', 'ADP'),\n",
       " ('California', 'NOUN'),\n",
       " (',', '.'),\n",
       " ('two', 'NUM'),\n",
       " ('petition', 'NOUN'),\n",
       " ('drives', 'NOUN'),\n",
       " ('for', 'ADP'),\n",
       " ('next', 'ADJ'),\n",
       " ('year', 'NOUN'),\n",
       " (\"'s\", 'PRT'),\n",
       " ('election', 'NOUN'),\n",
       " ('are', 'VERB'),\n",
       " ('``', '.'),\n",
       " ('essentially', 'ADV'),\n",
       " ('finished', 'VERB'),\n",
       " (',', '.'),\n",
       " (\"''\", '.'),\n",
       " ('says', 'VERB'),\n",
       " ('0', 'X'),\n",
       " ('*T*-1', 'X'),\n",
       " ('David', 'NOUN'),\n",
       " ('Schmidt', 'NOUN'),\n",
       " (',', '.'),\n",
       " ('author', 'NOUN'),\n",
       " ('of', 'ADP'),\n",
       " ('``', '.'),\n",
       " ('Citizen', 'NOUN'),\n",
       " ('Lawmakers', 'NOUN'),\n",
       " ('.', '.'),\n",
       " (\"''\", '.'),\n",
       " ('Since', 'ADP'),\n",
       " ('the', 'DET'),\n",
       " ('reforms', 'NOUN'),\n",
       " ('went', 'VERB'),\n",
       " ('in', 'ADP'),\n",
       " ('place', 'NOUN'),\n",
       " (',', '.'),\n",
       " ('for', 'ADP'),\n",
       " ('example', 'NOUN'),\n",
       " (',', '.'),\n",
       " ('no', 'DET'),\n",
       " ('state', 'NOUN'),\n",
       " ('has', 'VERB'),\n",
       " ('posted', 'VERB'),\n",
       " ('a', 'DET'),\n",
       " ('higher', 'ADJ'),\n",
       " ('rate', 'NOUN'),\n",
       " ('of', 'ADP'),\n",
       " ('improvement', 'NOUN'),\n",
       " ('on', 'ADP'),\n",
       " ('the', 'DET'),\n",
       " ('Scholastic', 'NOUN'),\n",
       " ('Aptitude', 'NOUN'),\n",
       " ('Test', 'NOUN'),\n",
       " ('than', 'ADP'),\n",
       " ('South', 'NOUN'),\n",
       " ('Carolina', 'NOUN'),\n",
       " ('*?*', 'X'),\n",
       " (',', '.'),\n",
       " ('although', 'ADP'),\n",
       " ('the', 'DET'),\n",
       " ('state', 'NOUN'),\n",
       " ('still', 'ADV'),\n",
       " ('posts', 'VERB'),\n",
       " ('the', 'DET'),\n",
       " ('lowest', 'ADJ'),\n",
       " ('average', 'ADJ'),\n",
       " ('score', 'NOUN'),\n",
       " ('of', 'ADP'),\n",
       " ('the', 'DET'),\n",
       " ('about', 'ADP'),\n",
       " ('21', 'NUM'),\n",
       " ('states', 'NOUN'),\n",
       " ('who', 'PRON'),\n",
       " ('*T*-87', 'X'),\n",
       " ('use', 'VERB'),\n",
       " ('the', 'DET'),\n",
       " ('SAT', 'NOUN'),\n",
       " ('as', 'ADP'),\n",
       " ('the', 'DET'),\n",
       " ('primary', 'ADJ'),\n",
       " ('college', 'NOUN'),\n",
       " ('entrance', 'NOUN'),\n",
       " ('examination', 'NOUN'),\n",
       " ('.', '.'),\n",
       " ('Campbell', 'NOUN'),\n",
       " ('Soup', 'NOUN'),\n",
       " (',', '.'),\n",
       " ('for', 'ADP'),\n",
       " ('one', 'NUM'),\n",
       " (',', '.'),\n",
       " ('is', 'VERB'),\n",
       " ('furious', 'ADJ'),\n",
       " ('0', 'X'),\n",
       " ('its', 'PRON'),\n",
       " ('Souper', 'NOUN'),\n",
       " ('Combo', 'NOUN'),\n",
       " ('microwave', 'NOUN'),\n",
       " ('product', 'NOUN'),\n",
       " ('was', 'VERB'),\n",
       " ('chastised', 'VERB'),\n",
       " ('*-79', 'X'),\n",
       " ('in', 'ADP'),\n",
       " ('the', 'DET'),\n",
       " ('premiere', 'NOUN'),\n",
       " ('``', '.'),\n",
       " ('In', 'NOUN'),\n",
       " ('the', 'DET'),\n",
       " ('Dumpster', 'NOUN'),\n",
       " (\"''\", '.'),\n",
       " ('column', 'NOUN'),\n",
       " ('.', '.'),\n",
       " ('``', '.'),\n",
       " ('We', 'PRON'),\n",
       " (\"'re\", 'VERB'),\n",
       " ('pleased', 'VERB'),\n",
       " ('0', 'X'),\n",
       " ('the', 'DET'),\n",
       " ('ABA', 'NOUN'),\n",
       " ('rated', 'VERB'),\n",
       " ('him', 'PRON'),\n",
       " ('qualified', 'VERB'),\n",
       " (',', '.'),\n",
       " (\"''\", '.'),\n",
       " ('David', 'NOUN'),\n",
       " ('Runkel', 'NOUN'),\n",
       " (',', '.'),\n",
       " ('the', 'DET'),\n",
       " ('department', 'NOUN'),\n",
       " (\"'s\", 'PRT'),\n",
       " ('chief', 'NOUN'),\n",
       " ('spokesman', 'NOUN'),\n",
       " (',', '.'),\n",
       " ('said', 'VERB'),\n",
       " ('*T*-1', 'X'),\n",
       " ('in', 'ADP'),\n",
       " ('an', 'DET'),\n",
       " ('interview', 'NOUN'),\n",
       " ('.', '.')]"
      ]
     },
     "execution_count": 24,
     "metadata": {},
     "output_type": "execute_result"
    }
   ],
   "source": [
    "# list of words and their tags\n",
    "val_run_base = [tup for sent in validation_run for tup in sent]\n",
    "val_run_base"
   ]
  },
  {
   "cell_type": "code",
   "execution_count": 25,
   "metadata": {},
   "outputs": [
    {
     "data": {
      "text/plain": [
       "['Trading',\n",
       " 'was',\n",
       " 'muted',\n",
       " '*-1',\n",
       " 'in',\n",
       " 'part',\n",
       " 'because',\n",
       " 'of',\n",
       " 'the',\n",
       " 'observance',\n",
       " 'of',\n",
       " 'All',\n",
       " 'Saints',\n",
       " \"'\",\n",
       " 'Day',\n",
       " 'across',\n",
       " 'much',\n",
       " 'of',\n",
       " 'Europe',\n",
       " '.',\n",
       " 'In',\n",
       " 'California',\n",
       " ',',\n",
       " 'two',\n",
       " 'petition',\n",
       " 'drives',\n",
       " 'for',\n",
       " 'next',\n",
       " 'year',\n",
       " \"'s\",\n",
       " 'election',\n",
       " 'are',\n",
       " '``',\n",
       " 'essentially',\n",
       " 'finished',\n",
       " ',',\n",
       " \"''\",\n",
       " 'says',\n",
       " '0',\n",
       " '*T*-1',\n",
       " 'David',\n",
       " 'Schmidt',\n",
       " ',',\n",
       " 'author',\n",
       " 'of',\n",
       " '``',\n",
       " 'Citizen',\n",
       " 'Lawmakers',\n",
       " '.',\n",
       " \"''\",\n",
       " 'Since',\n",
       " 'the',\n",
       " 'reforms',\n",
       " 'went',\n",
       " 'in',\n",
       " 'place',\n",
       " ',',\n",
       " 'for',\n",
       " 'example',\n",
       " ',',\n",
       " 'no',\n",
       " 'state',\n",
       " 'has',\n",
       " 'posted',\n",
       " 'a',\n",
       " 'higher',\n",
       " 'rate',\n",
       " 'of',\n",
       " 'improvement',\n",
       " 'on',\n",
       " 'the',\n",
       " 'Scholastic',\n",
       " 'Aptitude',\n",
       " 'Test',\n",
       " 'than',\n",
       " 'South',\n",
       " 'Carolina',\n",
       " '*?*',\n",
       " ',',\n",
       " 'although',\n",
       " 'the',\n",
       " 'state',\n",
       " 'still',\n",
       " 'posts',\n",
       " 'the',\n",
       " 'lowest',\n",
       " 'average',\n",
       " 'score',\n",
       " 'of',\n",
       " 'the',\n",
       " 'about',\n",
       " '21',\n",
       " 'states',\n",
       " 'who',\n",
       " '*T*-87',\n",
       " 'use',\n",
       " 'the',\n",
       " 'SAT',\n",
       " 'as',\n",
       " 'the',\n",
       " 'primary',\n",
       " 'college',\n",
       " 'entrance',\n",
       " 'examination',\n",
       " '.',\n",
       " 'Campbell',\n",
       " 'Soup',\n",
       " ',',\n",
       " 'for',\n",
       " 'one',\n",
       " ',',\n",
       " 'is',\n",
       " 'furious',\n",
       " '0',\n",
       " 'its',\n",
       " 'Souper',\n",
       " 'Combo',\n",
       " 'microwave',\n",
       " 'product',\n",
       " 'was',\n",
       " 'chastised',\n",
       " '*-79',\n",
       " 'in',\n",
       " 'the',\n",
       " 'premiere',\n",
       " '``',\n",
       " 'In',\n",
       " 'the',\n",
       " 'Dumpster',\n",
       " \"''\",\n",
       " 'column',\n",
       " '.',\n",
       " '``',\n",
       " 'We',\n",
       " \"'re\",\n",
       " 'pleased',\n",
       " '0',\n",
       " 'the',\n",
       " 'ABA',\n",
       " 'rated',\n",
       " 'him',\n",
       " 'qualified',\n",
       " ',',\n",
       " \"''\",\n",
       " 'David',\n",
       " 'Runkel',\n",
       " ',',\n",
       " 'the',\n",
       " 'department',\n",
       " \"'s\",\n",
       " 'chief',\n",
       " 'spokesman',\n",
       " ',',\n",
       " 'said',\n",
       " '*T*-1',\n",
       " 'in',\n",
       " 'an',\n",
       " 'interview',\n",
       " '.']"
      ]
     },
     "execution_count": 25,
     "metadata": {},
     "output_type": "execute_result"
    }
   ],
   "source": [
    "# list of tagged words\n",
    "val_tagged_words = [tup[0] for sent in validation_run for tup in sent]\n",
    "val_tagged_words"
   ]
  },
  {
   "cell_type": "markdown",
   "metadata": {},
   "source": [
    "#### Executing the vanilla Viterbi on validation data set"
   ]
  },
  {
   "cell_type": "code",
   "execution_count": 26,
   "metadata": {},
   "outputs": [],
   "source": [
    "start = time.time()\n",
    "tagged_val_seq = Viterbi(val_tagged_words)\n",
    "end = time.time()\n",
    "difference = end-start"
   ]
  },
  {
   "cell_type": "code",
   "execution_count": 27,
   "metadata": {},
   "outputs": [
    {
     "name": "stdout",
     "output_type": "stream",
     "text": [
      "Time taken in seconds:  58.90080714225769\n",
      "[('Trading', 'NOUN'), ('was', 'VERB'), ('muted', 'VERB'), ('*-1', 'X'), ('in', 'ADP'), ('part', 'NOUN'), ('because', 'ADP'), ('of', 'ADP'), ('the', 'DET'), ('observance', 'VERB'), ('of', 'ADP'), ('All', 'DET'), ('Saints', 'VERB'), (\"'\", 'PRT'), ('Day', 'VERB'), ('across', 'ADP'), ('much', 'ADJ'), ('of', 'ADP'), ('Europe', 'NOUN'), ('.', '.'), ('In', 'ADP'), ('California', 'NOUN'), (',', '.'), ('two', 'NUM'), ('petition', 'NOUN'), ('drives', 'VERB'), ('for', 'ADP'), ('next', 'ADJ'), ('year', 'NOUN'), (\"'s\", 'PRT'), ('election', 'VERB'), ('are', 'VERB'), ('``', '.'), ('essentially', 'ADV'), ('finished', 'VERB'), (',', '.'), (\"''\", '.'), ('says', 'VERB'), ('0', 'X'), ('*T*-1', 'X'), ('David', 'NOUN'), ('Schmidt', 'VERB'), (',', '.'), ('author', 'NOUN'), ('of', 'ADP'), ('``', '.'), ('Citizen', 'VERB'), ('Lawmakers', 'NOUN'), ('.', '.'), (\"''\", '.'), ('Since', 'ADP'), ('the', 'DET'), ('reforms', 'NOUN'), ('went', 'VERB'), ('in', 'ADP'), ('place', 'NOUN'), (',', '.'), ('for', 'ADP'), ('example', 'NOUN'), (',', '.'), ('no', 'DET'), ('state', 'NOUN'), ('has', 'VERB'), ('posted', 'VERB'), ('a', 'DET'), ('higher', 'ADJ'), ('rate', 'NOUN'), ('of', 'ADP'), ('improvement', 'NOUN'), ('on', 'ADP'), ('the', 'DET'), ('Scholastic', 'VERB'), ('Aptitude', 'VERB'), ('Test', 'NOUN'), ('than', 'ADP'), ('South', 'NOUN'), ('Carolina', 'NOUN'), ('*?*', 'X'), (',', '.'), ('although', 'ADP'), ('the', 'DET'), ('state', 'NOUN'), ('still', 'ADV'), ('posts', 'NOUN'), ('the', 'DET'), ('lowest', 'ADJ'), ('average', 'NOUN'), ('score', 'NOUN'), ('of', 'ADP'), ('the', 'DET'), ('about', 'ADP'), ('21', 'NUM'), ('states', 'NOUN'), ('who', 'PRON'), ('*T*-87', 'VERB'), ('use', 'VERB'), ('the', 'DET'), ('SAT', 'VERB'), ('as', 'ADP'), ('the', 'DET'), ('primary', 'ADJ'), ('college', 'NOUN'), ('entrance', 'VERB'), ('examination', 'NOUN'), ('.', '.'), ('Campbell', 'NOUN'), ('Soup', 'NOUN'), (',', '.'), ('for', 'ADP'), ('one', 'NUM'), (',', '.'), ('is', 'VERB'), ('furious', 'VERB'), ('0', 'X'), ('its', 'PRON'), ('Souper', 'NOUN'), ('Combo', 'NOUN'), ('microwave', 'VERB'), ('product', 'NOUN'), ('was', 'VERB'), ('chastised', 'VERB'), ('*-79', 'X'), ('in', 'ADP'), ('the', 'DET'), ('premiere', 'NOUN'), ('``', '.'), ('In', 'ADP'), ('the', 'DET'), ('Dumpster', 'NOUN'), (\"''\", '.'), ('column', 'VERB'), ('.', '.'), ('``', '.'), ('We', 'PRON'), (\"'re\", 'VERB'), ('pleased', 'VERB'), ('0', 'X'), ('the', 'DET'), ('ABA', 'NOUN'), ('rated', 'VERB'), ('him', 'PRON'), ('qualified', 'VERB'), (',', '.'), (\"''\", '.'), ('David', 'NOUN'), ('Runkel', 'VERB'), (',', '.'), ('the', 'DET'), ('department', 'NOUN'), (\"'s\", 'PRT'), ('chief', 'NOUN'), ('spokesman', 'NOUN'), (',', '.'), ('said', 'VERB'), ('*T*-1', 'X'), ('in', 'ADP'), ('an', 'DET'), ('interview', 'NOUN'), ('.', '.')]\n"
     ]
    }
   ],
   "source": [
    "print(\"Time taken in seconds: \", difference)\n",
    "print(tagged_val_seq)"
   ]
  },
  {
   "cell_type": "markdown",
   "metadata": {},
   "source": [
    "#### Accuracy on validation set using vanilla Viterbi algorithm"
   ]
  },
  {
   "cell_type": "code",
   "execution_count": 28,
   "metadata": {},
   "outputs": [
    {
     "data": {
      "text/plain": [
       "0.8742138364779874"
      ]
     },
     "execution_count": 28,
     "metadata": {},
     "output_type": "execute_result"
    }
   ],
   "source": [
    "check = [i for i, j in zip(tagged_val_seq, val_run_base) if i == j] \n",
    "accuracy = len(check)/len(tagged_val_seq)\n",
    "accuracy"
   ]
  },
  {
   "cell_type": "markdown",
   "metadata": {},
   "source": [
    "#### Incorrect tagged cases of Validation set using vanilla Viterbi algorithm"
   ]
  },
  {
   "cell_type": "code",
   "execution_count": 29,
   "metadata": {},
   "outputs": [
    {
     "data": {
      "text/plain": [
       "[[('the', 'DET'), (('observance', 'VERB'), ('observance', 'NOUN'))],\n",
       " [('of', 'ADP'), (('All', 'DET'), ('All', 'NOUN'))],\n",
       " [('All', 'NOUN'), (('Saints', 'VERB'), ('Saints', 'NOUN'))],\n",
       " [(\"'\", 'PRT'), (('Day', 'VERB'), ('Day', 'NOUN'))],\n",
       " [('petition', 'NOUN'), (('drives', 'VERB'), ('drives', 'NOUN'))],\n",
       " [(\"'s\", 'PRT'), (('election', 'VERB'), ('election', 'NOUN'))],\n",
       " [('David', 'NOUN'), (('Schmidt', 'VERB'), ('Schmidt', 'NOUN'))],\n",
       " [('``', '.'), (('Citizen', 'VERB'), ('Citizen', 'NOUN'))],\n",
       " [('the', 'DET'), (('Scholastic', 'VERB'), ('Scholastic', 'NOUN'))],\n",
       " [('Scholastic', 'NOUN'), (('Aptitude', 'VERB'), ('Aptitude', 'NOUN'))],\n",
       " [('still', 'ADV'), (('posts', 'NOUN'), ('posts', 'VERB'))],\n",
       " [('lowest', 'ADJ'), (('average', 'NOUN'), ('average', 'ADJ'))],\n",
       " [('who', 'PRON'), (('*T*-87', 'VERB'), ('*T*-87', 'X'))],\n",
       " [('the', 'DET'), (('SAT', 'VERB'), ('SAT', 'NOUN'))],\n",
       " [('college', 'NOUN'), (('entrance', 'VERB'), ('entrance', 'NOUN'))],\n",
       " [('is', 'VERB'), (('furious', 'VERB'), ('furious', 'ADJ'))],\n",
       " [('Combo', 'NOUN'), (('microwave', 'VERB'), ('microwave', 'NOUN'))],\n",
       " [('``', '.'), (('In', 'ADP'), ('In', 'NOUN'))],\n",
       " [(\"''\", '.'), (('column', 'VERB'), ('column', 'NOUN'))],\n",
       " [('David', 'NOUN'), (('Runkel', 'VERB'), ('Runkel', 'NOUN'))]]"
      ]
     },
     "execution_count": 29,
     "metadata": {},
     "output_type": "execute_result"
    }
   ],
   "source": [
    "incorrect_tagged_cases_val_vanilla = [[val_run_base[i-1],j] for i, j in enumerate(zip(tagged_val_seq, val_run_base)) if j[0]!=j[1]]\n",
    "incorrect_tagged_cases_val_vanilla"
   ]
  },
  {
   "cell_type": "markdown",
   "metadata": {},
   "source": [
    "### Test set "
   ]
  },
  {
   "cell_type": "code",
   "execution_count": 30,
   "metadata": {},
   "outputs": [
    {
     "data": {
      "text/plain": [
       "[('Android', 'NOUN'),\n",
       " ('is', 'VERB'),\n",
       " ('a', 'DET'),\n",
       " ('mobile', 'ADJ'),\n",
       " ('operating', 'NOUN'),\n",
       " ('system', 'NOUN'),\n",
       " ('developed', 'VERB'),\n",
       " ('by', 'ADP'),\n",
       " ('Google', 'NOUN'),\n",
       " ('.', '.'),\n",
       " ('Android', 'NOUN'),\n",
       " ('has', 'VERB'),\n",
       " ('been', 'VERB'),\n",
       " ('the', 'DET'),\n",
       " ('best-selling', 'ADJ'),\n",
       " ('OS', 'NOUN'),\n",
       " ('worldwide', 'NOUN'),\n",
       " ('on', 'ADP'),\n",
       " ('smartphones', 'NOUN'),\n",
       " ('since', 'ADP'),\n",
       " ('2011', 'NUM'),\n",
       " ('and', 'CONJ'),\n",
       " ('on', 'ADP'),\n",
       " ('tablets', 'NOUN'),\n",
       " ('since', 'ADP'),\n",
       " ('2013', 'NUM'),\n",
       " ('.', '.'),\n",
       " ('Google', 'NOUN'),\n",
       " ('and', 'CONJ'),\n",
       " ('Twitter', 'NOUN'),\n",
       " ('made', 'VERB'),\n",
       " ('a', 'DET'),\n",
       " ('deal', 'NOUN'),\n",
       " ('in', 'ADP'),\n",
       " ('2015', 'NUM'),\n",
       " ('that', 'DET'),\n",
       " ('gave', 'VERB'),\n",
       " ('Google', 'NOUN'),\n",
       " ('access', 'NOUN'),\n",
       " ('to', 'PRT'),\n",
       " ('Twitter', 'NOUN'),\n",
       " (\"'s\", 'PRT'),\n",
       " ('firehose', 'NOUN'),\n",
       " ('.', '.'),\n",
       " ('Twitter', 'NOUN'),\n",
       " ('is', 'VERB'),\n",
       " ('an', 'DET'),\n",
       " ('online', 'ADJ'),\n",
       " ('news', 'NOUN'),\n",
       " ('and', 'CONJ'),\n",
       " ('social', 'ADJ'),\n",
       " ('networking', 'NOUN'),\n",
       " ('service', 'NOUN'),\n",
       " ('on', 'ADP'),\n",
       " ('which', 'DET'),\n",
       " ('users', 'NOUN'),\n",
       " ('post', 'NOUN'),\n",
       " ('and', 'CONJ'),\n",
       " ('interact', 'NOUN'),\n",
       " ('with', 'ADP'),\n",
       " ('messages', 'NOUN'),\n",
       " ('known', 'VERB'),\n",
       " ('as', 'ADP'),\n",
       " ('tweets', 'NOUN'),\n",
       " ('.', '.'),\n",
       " ('Before', 'ADP'),\n",
       " ('entering', 'VERB'),\n",
       " ('politics', 'NOUN'),\n",
       " (',', '.'),\n",
       " ('Donald', 'NOUN'),\n",
       " ('Trump', 'NOUN'),\n",
       " ('was', 'VERB'),\n",
       " ('a', 'DET'),\n",
       " ('domineering', 'ADJ'),\n",
       " ('businessman', 'NOUN'),\n",
       " ('and', 'CONJ'),\n",
       " ('a', 'DET'),\n",
       " ('television', 'NOUN'),\n",
       " ('personality', 'NOUN'),\n",
       " ('.', '.'),\n",
       " ('The', 'DET'),\n",
       " ('2018', 'NUM'),\n",
       " ('FIFA', 'NOUN'),\n",
       " ('World', 'NOUN'),\n",
       " ('Cup', 'NOUN'),\n",
       " ('is', 'VERB'),\n",
       " ('the', 'DET'),\n",
       " ('21st', 'NUM'),\n",
       " ('FIFA', 'NOUN'),\n",
       " ('World', 'NOUN'),\n",
       " ('Cup', 'NOUN'),\n",
       " (',', '.'),\n",
       " ('an', 'DET'),\n",
       " ('international', 'ADJ'),\n",
       " ('football', 'NOUN'),\n",
       " ('tournament', 'NOUN'),\n",
       " ('contested', 'VERB'),\n",
       " ('once', 'ADV'),\n",
       " ('every', 'DET'),\n",
       " ('four', 'NUM'),\n",
       " ('years', 'NOUN'),\n",
       " ('.', '.'),\n",
       " ('This', 'DET'),\n",
       " ('is', 'VERB'),\n",
       " ('the', 'DET'),\n",
       " ('first', 'ADJ'),\n",
       " ('World', 'NOUN'),\n",
       " ('Cup', 'NOUN'),\n",
       " ('to', 'PRT'),\n",
       " ('be', 'VERB'),\n",
       " ('held', 'VERB'),\n",
       " ('in', 'ADP'),\n",
       " ('Eastern', 'NOUN'),\n",
       " ('Europe', 'NOUN'),\n",
       " ('and', 'CONJ'),\n",
       " ('the', 'DET'),\n",
       " ('11th', 'NUM'),\n",
       " ('time', 'NOUN'),\n",
       " ('that', 'ADP'),\n",
       " ('it', 'PRON'),\n",
       " ('has', 'VERB'),\n",
       " ('been', 'VERB'),\n",
       " ('held', 'VERB'),\n",
       " ('in', 'ADP'),\n",
       " ('Europe', 'NOUN'),\n",
       " ('.', '.'),\n",
       " ('Show', 'VERB'),\n",
       " ('me', 'PRON'),\n",
       " ('the', 'DET'),\n",
       " ('cheapest', 'ADJ'),\n",
       " ('round', 'NOUN'),\n",
       " ('trips', 'NOUN'),\n",
       " ('from', 'ADP'),\n",
       " ('Dallas', 'NOUN'),\n",
       " ('to', 'PRT'),\n",
       " ('Atlanta', 'NOUN'),\n",
       " ('I', 'PRON'),\n",
       " ('would', 'VERB'),\n",
       " ('like', 'VERB'),\n",
       " ('to', 'PRT'),\n",
       " ('see', 'VERB'),\n",
       " ('flights', 'NOUN'),\n",
       " ('from', 'ADP'),\n",
       " ('Denver', 'NOUN'),\n",
       " ('to', 'PRT'),\n",
       " ('Philadelphia', 'NOUN'),\n",
       " ('.', '.'),\n",
       " ('Show', 'VERB'),\n",
       " ('me', 'PRON'),\n",
       " ('the', 'DET'),\n",
       " ('price', 'NOUN'),\n",
       " ('of', 'ADP'),\n",
       " ('the', 'DET'),\n",
       " ('flights', 'NOUN'),\n",
       " ('leaving', 'VERB'),\n",
       " ('Atlanta', 'NOUN'),\n",
       " ('at', 'ADP'),\n",
       " ('about', 'ADV'),\n",
       " ('3', 'NUM'),\n",
       " ('in', 'ADP'),\n",
       " ('the', 'DET'),\n",
       " ('afternoon', 'NOUN'),\n",
       " ('and', 'CONJ'),\n",
       " ('arriving', 'NOUN'),\n",
       " ('in', 'ADP'),\n",
       " ('San', 'NOUN'),\n",
       " ('Francisco', 'NOUN'),\n",
       " ('.', '.'),\n",
       " ('NASA', 'NOUN'),\n",
       " ('invited', 'VERB'),\n",
       " ('social', 'ADJ'),\n",
       " ('media', 'NOUN'),\n",
       " ('users', 'NOUN'),\n",
       " ('to', 'PRT'),\n",
       " ('experience', 'VERB'),\n",
       " ('the', 'DET'),\n",
       " ('launch', 'NOUN'),\n",
       " ('of', 'ADP'),\n",
       " ('ICESAT-2', 'NOUN'),\n",
       " ('Satellite', 'NOUN'),\n",
       " ('.', '.')]"
      ]
     },
     "execution_count": 30,
     "metadata": {},
     "output_type": "execute_result"
    }
   ],
   "source": [
    "# Reading the Test File\n",
    "with open('Test_sentences.txt','r') as f:\n",
    "    lines=f.readlines()\n",
    "    \n",
    "# joining lines to form a single string\n",
    "test_string=reduce(lambda x,y: x+ ' '+y,lines)\n",
    "\n",
    "#removing extra new line characters\n",
    "test_string=test_string.replace('\\n','') \n",
    "\n",
    "#strip white spaces\n",
    "test_string=test_string.strip() \n",
    "\n",
    "# Generating word tokens from sentence\n",
    "test_tokens=word_tokenize(test_string)\n",
    "\n",
    "# Generating pos tags for word tokens\n",
    "test_set = nltk.pos_tag(test_tokens,tagset='universal')\n",
    "test_set"
   ]
  },
  {
   "cell_type": "markdown",
   "metadata": {},
   "source": [
    "#### Executing the vanilla Viterbi on test set"
   ]
  },
  {
   "cell_type": "code",
   "execution_count": 31,
   "metadata": {},
   "outputs": [
    {
     "name": "stdout",
     "output_type": "stream",
     "text": [
      "68.50075578689575\n",
      "[('Android', 'VERB'), ('is', 'VERB'), ('a', 'DET'), ('mobile', 'ADJ'), ('operating', 'NOUN'), ('system', 'NOUN'), ('developed', 'VERB'), ('by', 'ADP'), ('Google', 'VERB'), ('.', '.'), ('Android', 'VERB'), ('has', 'VERB'), ('been', 'VERB'), ('the', 'DET'), ('best-selling', 'VERB'), ('OS', 'VERB'), ('worldwide', 'VERB'), ('on', 'ADP'), ('smartphones', 'VERB'), ('since', 'ADP'), ('2011', 'VERB'), ('and', 'CONJ'), ('on', 'ADP'), ('tablets', 'NOUN'), ('since', 'ADP'), ('2013', 'VERB'), ('.', '.'), ('Google', 'VERB'), ('and', 'CONJ'), ('Twitter', 'VERB'), ('made', 'VERB'), ('a', 'DET'), ('deal', 'NOUN'), ('in', 'ADP'), ('2015', 'VERB'), ('that', 'ADP'), ('gave', 'VERB'), ('Google', 'VERB'), ('access', 'NOUN'), ('to', 'PRT'), ('Twitter', 'VERB'), (\"'s\", 'PRT'), ('firehose', 'VERB'), ('.', '.'), ('Twitter', 'VERB'), ('is', 'VERB'), ('an', 'DET'), ('online', 'VERB'), ('news', 'NOUN'), ('and', 'CONJ'), ('social', 'ADJ'), ('networking', 'NOUN'), ('service', 'NOUN'), ('on', 'ADP'), ('which', 'DET'), ('users', 'NOUN'), ('post', 'NOUN'), ('and', 'CONJ'), ('interact', 'VERB'), ('with', 'ADP'), ('messages', 'VERB'), ('known', 'VERB'), ('as', 'ADP'), ('tweets', 'VERB'), ('.', '.'), ('Before', 'ADP'), ('entering', 'VERB'), ('politics', 'NOUN'), (',', '.'), ('Donald', 'NOUN'), ('Trump', 'NOUN'), ('was', 'VERB'), ('a', 'DET'), ('domineering', 'VERB'), ('businessman', 'NOUN'), ('and', 'CONJ'), ('a', 'DET'), ('television', 'NOUN'), ('personality', 'VERB'), ('.', '.'), ('The', 'DET'), ('2018', 'VERB'), ('FIFA', 'VERB'), ('World', 'NOUN'), ('Cup', 'VERB'), ('is', 'VERB'), ('the', 'DET'), ('21st', 'VERB'), ('FIFA', 'VERB'), ('World', 'NOUN'), ('Cup', 'VERB'), (',', '.'), ('an', 'DET'), ('international', 'ADJ'), ('football', 'NOUN'), ('tournament', 'VERB'), ('contested', 'VERB'), ('once', 'ADV'), ('every', 'DET'), ('four', 'NUM'), ('years', 'NOUN'), ('.', '.'), ('This', 'DET'), ('is', 'VERB'), ('the', 'DET'), ('first', 'ADJ'), ('World', 'NOUN'), ('Cup', 'VERB'), ('to', 'PRT'), ('be', 'VERB'), ('held', 'VERB'), ('in', 'ADP'), ('Eastern', 'NOUN'), ('Europe', 'NOUN'), ('and', 'CONJ'), ('the', 'DET'), ('11th', 'VERB'), ('time', 'NOUN'), ('that', 'ADP'), ('it', 'PRON'), ('has', 'VERB'), ('been', 'VERB'), ('held', 'VERB'), ('in', 'ADP'), ('Europe', 'NOUN'), ('.', '.'), ('Show', 'NOUN'), ('me', 'PRON'), ('the', 'DET'), ('cheapest', 'ADJ'), ('round', 'NOUN'), ('trips', 'VERB'), ('from', 'ADP'), ('Dallas', 'NOUN'), ('to', 'PRT'), ('Atlanta', 'NOUN'), ('I', 'PRON'), ('would', 'VERB'), ('like', 'ADP'), ('to', 'PRT'), ('see', 'VERB'), ('flights', 'NOUN'), ('from', 'ADP'), ('Denver', 'NOUN'), ('to', 'PRT'), ('Philadelphia', 'NOUN'), ('.', '.'), ('Show', 'NOUN'), ('me', 'PRON'), ('the', 'DET'), ('price', 'NOUN'), ('of', 'ADP'), ('the', 'DET'), ('flights', 'NOUN'), ('leaving', 'VERB'), ('Atlanta', 'NOUN'), ('at', 'ADP'), ('about', 'ADP'), ('3', 'NUM'), ('in', 'ADP'), ('the', 'DET'), ('afternoon', 'NOUN'), ('and', 'CONJ'), ('arriving', 'VERB'), ('in', 'ADP'), ('San', 'NOUN'), ('Francisco', 'NOUN'), ('.', '.'), ('NASA', 'VERB'), ('invited', 'VERB'), ('social', 'ADJ'), ('media', 'NOUN'), ('users', 'NOUN'), ('to', 'PRT'), ('experience', 'NOUN'), ('the', 'DET'), ('launch', 'NOUN'), ('of', 'ADP'), ('ICESAT-2', 'VERB'), ('Satellite', 'VERB'), ('.', '.')]\n"
     ]
    }
   ],
   "source": [
    "start = time.time()\n",
    "tagged_test_seq = Viterbi(test_tokens)\n",
    "end = time.time()\n",
    "difference = end-start\n",
    "print(difference)\n",
    "print(tagged_test_seq)"
   ]
  },
  {
   "cell_type": "markdown",
   "metadata": {},
   "source": [
    "#### Accuracy of test set using vanilla Viterbi algorithm"
   ]
  },
  {
   "cell_type": "code",
   "execution_count": 32,
   "metadata": {},
   "outputs": [
    {
     "data": {
      "text/plain": [
       "0.7679558011049724"
      ]
     },
     "execution_count": 32,
     "metadata": {},
     "output_type": "execute_result"
    }
   ],
   "source": [
    "check = [i for i, j in zip(tagged_test_seq, test_set) if i == j] \n",
    "accuracy = len(check)/len(tagged_test_seq)\n",
    "accuracy"
   ]
  },
  {
   "cell_type": "markdown",
   "metadata": {},
   "source": [
    "#### Incorrectly tagged words by vanilla Viterbi algorithm on test set"
   ]
  },
  {
   "cell_type": "code",
   "execution_count": 33,
   "metadata": {},
   "outputs": [
    {
     "name": "stdout",
     "output_type": "stream",
     "text": [
      "42\n"
     ]
    },
    {
     "data": {
      "text/plain": [
       "[[('.', '.'), (('Android', 'VERB'), ('Android', 'NOUN'))],\n",
       " [('by', 'ADP'), (('Google', 'VERB'), ('Google', 'NOUN'))],\n",
       " [('.', '.'), (('Android', 'VERB'), ('Android', 'NOUN'))],\n",
       " [('the', 'DET'), (('best-selling', 'VERB'), ('best-selling', 'ADJ'))],\n",
       " [('best-selling', 'ADJ'), (('OS', 'VERB'), ('OS', 'NOUN'))],\n",
       " [('OS', 'NOUN'), (('worldwide', 'VERB'), ('worldwide', 'NOUN'))],\n",
       " [('on', 'ADP'), (('smartphones', 'VERB'), ('smartphones', 'NOUN'))],\n",
       " [('since', 'ADP'), (('2011', 'VERB'), ('2011', 'NUM'))],\n",
       " [('since', 'ADP'), (('2013', 'VERB'), ('2013', 'NUM'))],\n",
       " [('.', '.'), (('Google', 'VERB'), ('Google', 'NOUN'))],\n",
       " [('and', 'CONJ'), (('Twitter', 'VERB'), ('Twitter', 'NOUN'))],\n",
       " [('in', 'ADP'), (('2015', 'VERB'), ('2015', 'NUM'))],\n",
       " [('2015', 'NUM'), (('that', 'ADP'), ('that', 'DET'))],\n",
       " [('gave', 'VERB'), (('Google', 'VERB'), ('Google', 'NOUN'))],\n",
       " [('to', 'PRT'), (('Twitter', 'VERB'), ('Twitter', 'NOUN'))],\n",
       " [(\"'s\", 'PRT'), (('firehose', 'VERB'), ('firehose', 'NOUN'))],\n",
       " [('.', '.'), (('Twitter', 'VERB'), ('Twitter', 'NOUN'))],\n",
       " [('an', 'DET'), (('online', 'VERB'), ('online', 'ADJ'))],\n",
       " [('and', 'CONJ'), (('interact', 'VERB'), ('interact', 'NOUN'))],\n",
       " [('with', 'ADP'), (('messages', 'VERB'), ('messages', 'NOUN'))],\n",
       " [('as', 'ADP'), (('tweets', 'VERB'), ('tweets', 'NOUN'))],\n",
       " [('a', 'DET'), (('domineering', 'VERB'), ('domineering', 'ADJ'))],\n",
       " [('television', 'NOUN'), (('personality', 'VERB'), ('personality', 'NOUN'))],\n",
       " [('The', 'DET'), (('2018', 'VERB'), ('2018', 'NUM'))],\n",
       " [('2018', 'NUM'), (('FIFA', 'VERB'), ('FIFA', 'NOUN'))],\n",
       " [('World', 'NOUN'), (('Cup', 'VERB'), ('Cup', 'NOUN'))],\n",
       " [('the', 'DET'), (('21st', 'VERB'), ('21st', 'NUM'))],\n",
       " [('21st', 'NUM'), (('FIFA', 'VERB'), ('FIFA', 'NOUN'))],\n",
       " [('World', 'NOUN'), (('Cup', 'VERB'), ('Cup', 'NOUN'))],\n",
       " [('football', 'NOUN'), (('tournament', 'VERB'), ('tournament', 'NOUN'))],\n",
       " [('World', 'NOUN'), (('Cup', 'VERB'), ('Cup', 'NOUN'))],\n",
       " [('the', 'DET'), (('11th', 'VERB'), ('11th', 'NUM'))],\n",
       " [('.', '.'), (('Show', 'NOUN'), ('Show', 'VERB'))],\n",
       " [('round', 'NOUN'), (('trips', 'VERB'), ('trips', 'NOUN'))],\n",
       " [('would', 'VERB'), (('like', 'ADP'), ('like', 'VERB'))],\n",
       " [('.', '.'), (('Show', 'NOUN'), ('Show', 'VERB'))],\n",
       " [('at', 'ADP'), (('about', 'ADP'), ('about', 'ADV'))],\n",
       " [('and', 'CONJ'), (('arriving', 'VERB'), ('arriving', 'NOUN'))],\n",
       " [('.', '.'), (('NASA', 'VERB'), ('NASA', 'NOUN'))],\n",
       " [('to', 'PRT'), (('experience', 'NOUN'), ('experience', 'VERB'))],\n",
       " [('of', 'ADP'), (('ICESAT-2', 'VERB'), ('ICESAT-2', 'NOUN'))],\n",
       " [('ICESAT-2', 'NOUN'), (('Satellite', 'VERB'), ('Satellite', 'NOUN'))]]"
      ]
     },
     "execution_count": 33,
     "metadata": {},
     "output_type": "execute_result"
    }
   ],
   "source": [
    "incorrect_tagged_cases_test_vanilla = [[test_set[i-1],j] for i, j in enumerate(zip(tagged_test_seq, test_set)) if j[0]!=j[1]]\n",
    "print(len(incorrect_tagged_cases_test_vanilla))\n",
    "incorrect_tagged_cases_test_vanilla"
   ]
  },
  {
   "cell_type": "markdown",
   "metadata": {},
   "source": [
    "**Insight** : \n",
    "\n",
    "The original Viterbi algorithm has __40-50__ words incorrectly pos tagged."
   ]
  },
  {
   "cell_type": "markdown",
   "metadata": {},
   "source": [
    "### Solve the problem of unknown words\n"
   ]
  },
  {
   "cell_type": "markdown",
   "metadata": {},
   "source": [
    "#### List of unknown words"
   ]
  },
  {
   "cell_type": "code",
   "execution_count": 34,
   "metadata": {},
   "outputs": [
    {
     "name": "stdout",
     "output_type": "stream",
     "text": [
      "12059   2008   115\n"
     ]
    }
   ],
   "source": [
    "# Train data\n",
    "vocabulary=(set([pair[0] for pair in tagged_train_words]))\n",
    "\n",
    "# Validation data\n",
    "tagged_words_validation=[tup for ls in validation_set for tup in ls]\n",
    "vocabulary_validation=set([t[0] for t in tagged_words_validation])\n",
    "\n",
    "# Test data\n",
    "vocabulary_test = set([t[0] for t in test_set])\n",
    "\n",
    "# Length of each data set\n",
    "print(len(vocabulary),' ',len(vocabulary_validation),' ',len(vocabulary_test))"
   ]
  },
  {
   "cell_type": "code",
   "execution_count": 35,
   "metadata": {},
   "outputs": [
    {
     "name": "stdout",
     "output_type": "stream",
     "text": [
      "Vocabulary which is not part of Training Set but part of Validation Set\n",
      "Total Unknown words: 349, sample->['PAP', 'riding', 'Malizia', 'handles', '877,663', 'SOYBEANS', 'distinct', 'product-design', '1\\\\/10th', 'regime']\n"
     ]
    }
   ],
   "source": [
    "print(\"Vocabulary which is not part of Training Set but part of Validation Set\")\n",
    "Validation_unknownwords=list(vocabulary_validation-vocabulary)\n",
    "print(\"Total Unknown words: {}, sample->{}\".format(len(Validation_unknownwords),Validation_unknownwords[0:10]))"
   ]
  },
  {
   "cell_type": "code",
   "execution_count": 36,
   "metadata": {},
   "outputs": [
    {
     "name": "stdout",
     "output_type": "stream",
     "text": [
      "Vocabulary which is not part of Training Set but part of Test Set\n",
      "Total Unknown words: 30, sample->['Satellite', '21st', 'Android', 'Twitter', '2018', '2015', 'messages', 'best-selling', 'worldwide', 'domineering']\n"
     ]
    }
   ],
   "source": [
    "print(\"Vocabulary which is not part of Training Set but part of Test Set\")\n",
    "Test_unknownwords=list(vocabulary_test-vocabulary)\n",
    "print(\"Total Unknown words: {}, sample->{}\".format(len(Test_unknownwords),Test_unknownwords[0:10]))"
   ]
  },
  {
   "cell_type": "markdown",
   "metadata": {},
   "source": [
    "### Exploratory data analysis"
   ]
  },
  {
   "cell_type": "code",
   "execution_count": 37,
   "metadata": {},
   "outputs": [
    {
     "data": {
      "text/plain": [
       "[('muted', 'VERB'),\n",
       " ('observance', 'VERB'),\n",
       " ('Saints', 'VERB'),\n",
       " ('Day', 'VERB'),\n",
       " ('drives', 'VERB'),\n",
       " ('election', 'VERB'),\n",
       " ('Schmidt', 'VERB'),\n",
       " ('Citizen', 'VERB'),\n",
       " ('Scholastic', 'VERB'),\n",
       " ('Aptitude', 'VERB'),\n",
       " ('*T*-87', 'VERB'),\n",
       " ('SAT', 'VERB'),\n",
       " ('entrance', 'VERB'),\n",
       " ('furious', 'VERB'),\n",
       " ('microwave', 'VERB'),\n",
       " ('column', 'VERB'),\n",
       " ('Runkel', 'VERB')]"
      ]
     },
     "execution_count": 37,
     "metadata": {},
     "output_type": "execute_result"
    }
   ],
   "source": [
    "# POS tags of unknown words in validation set\n",
    "[tup for tup in tagged_val_seq for word in Validation_unknownwords if tup[0]==word ]"
   ]
  },
  {
   "cell_type": "code",
   "execution_count": 38,
   "metadata": {
    "scrolled": true
   },
   "outputs": [
    {
     "data": {
      "text/plain": [
       "[('Android', 'VERB'),\n",
       " ('Google', 'VERB'),\n",
       " ('Android', 'VERB'),\n",
       " ('best-selling', 'VERB'),\n",
       " ('OS', 'VERB'),\n",
       " ('worldwide', 'VERB'),\n",
       " ('smartphones', 'VERB'),\n",
       " ('2011', 'VERB'),\n",
       " ('2013', 'VERB'),\n",
       " ('Google', 'VERB'),\n",
       " ('Twitter', 'VERB'),\n",
       " ('2015', 'VERB'),\n",
       " ('Google', 'VERB'),\n",
       " ('Twitter', 'VERB'),\n",
       " ('firehose', 'VERB'),\n",
       " ('Twitter', 'VERB'),\n",
       " ('online', 'VERB'),\n",
       " ('interact', 'VERB'),\n",
       " ('messages', 'VERB'),\n",
       " ('tweets', 'VERB'),\n",
       " ('domineering', 'VERB'),\n",
       " ('personality', 'VERB'),\n",
       " ('2018', 'VERB'),\n",
       " ('FIFA', 'VERB'),\n",
       " ('Cup', 'VERB'),\n",
       " ('21st', 'VERB'),\n",
       " ('FIFA', 'VERB'),\n",
       " ('Cup', 'VERB'),\n",
       " ('tournament', 'VERB'),\n",
       " ('contested', 'VERB'),\n",
       " ('Cup', 'VERB'),\n",
       " ('11th', 'VERB'),\n",
       " ('trips', 'VERB'),\n",
       " ('arriving', 'VERB'),\n",
       " ('NASA', 'VERB'),\n",
       " ('invited', 'VERB'),\n",
       " ('ICESAT-2', 'VERB'),\n",
       " ('Satellite', 'VERB')]"
      ]
     },
     "execution_count": 38,
     "metadata": {},
     "output_type": "execute_result"
    }
   ],
   "source": [
    "# POS tags of unknown words in test set\n",
    "[tup for tup in tagged_test_seq for word in Test_unknownwords if tup[0]==word ]"
   ]
  },
  {
   "cell_type": "code",
   "execution_count": 39,
   "metadata": {},
   "outputs": [
    {
     "data": {
      "text/plain": [
       "Counter({'DET': 8279,\n",
       "         'NOUN': 27356,\n",
       "         'VERB': 12845,\n",
       "         'ADP': 9344,\n",
       "         'ADJ': 6031,\n",
       "         '.': 11152,\n",
       "         'X': 6268,\n",
       "         'PRON': 2609,\n",
       "         'ADV': 3002,\n",
       "         'NUM': 3359,\n",
       "         'CONJ': 2139,\n",
       "         'PRT': 3037})"
      ]
     },
     "execution_count": 39,
     "metadata": {},
     "output_type": "execute_result"
    }
   ],
   "source": [
    "# Count of all tags in the training set\n",
    "\n",
    "tag_counts = Counter(pair[1] for pair in tagged_train_words)\n",
    "tag_counts"
   ]
  },
  {
   "cell_type": "code",
   "execution_count": 40,
   "metadata": {},
   "outputs": [
    {
     "data": {
      "text/plain": [
       "[('NOUN', 27356), ('VERB', 12845), ('.', 11152), ('ADP', 9344), ('DET', 8279)]"
      ]
     },
     "execution_count": 40,
     "metadata": {},
     "output_type": "execute_result"
    }
   ],
   "source": [
    "# Five most common tags in training set\n",
    "tag_counts.most_common(5)"
   ]
  },
  {
   "cell_type": "code",
   "execution_count": 41,
   "metadata": {},
   "outputs": [
    {
     "data": {
      "text/plain": [
       "Counter({'VERB': 16, 'DET': 1, 'NOUN': 2, 'ADP': 1})"
      ]
     },
     "execution_count": 41,
     "metadata": {},
     "output_type": "execute_result"
    }
   ],
   "source": [
    "# Count of incorrectly classfied words for each tag in validation set\n",
    "wrong_tag_counts = Counter(pair[1][0][1] for pair in incorrect_tagged_cases_val_vanilla)\n",
    "wrong_tag_counts"
   ]
  },
  {
   "cell_type": "code",
   "execution_count": 42,
   "metadata": {},
   "outputs": [
    {
     "data": {
      "text/plain": [
       "Counter({'VERB': 36, 'ADP': 3, 'NOUN': 3})"
      ]
     },
     "execution_count": 42,
     "metadata": {},
     "output_type": "execute_result"
    }
   ],
   "source": [
    "# Count of incorrectly classfied words for each tag in test set\n",
    "wrong_tag_counts = Counter(pair[1][0][1] for pair in incorrect_tagged_cases_test_vanilla)\n",
    "wrong_tag_counts"
   ]
  },
  {
   "cell_type": "markdown",
   "metadata": {},
   "source": [
    "#### Determine the rules for rule based technique"
   ]
  },
  {
   "cell_type": "code",
   "execution_count": 43,
   "metadata": {},
   "outputs": [
    {
     "name": "stdout",
     "output_type": "stream",
     "text": [
      "0.20591669910471\n"
     ]
    },
    {
     "data": {
      "text/plain": [
       "[('disclosed', 'VERB'),\n",
       " ('offered', 'VERB'),\n",
       " ('totaled', 'VERB'),\n",
       " ('barred', 'VERB'),\n",
       " ('noted', 'VERB'),\n",
       " ('suspended', 'VERB'),\n",
       " ('consented', 'VERB'),\n",
       " ('launched', 'VERB'),\n",
       " ('engineered', 'VERB'),\n",
       " ('lengthened', 'VERB')]"
      ]
     },
     "execution_count": 43,
     "metadata": {},
     "output_type": "execute_result"
    }
   ],
   "source": [
    "# Check the percentage of verbs which are classifed as 'VERB' which end with 'ed'\n",
    "verbs = [pair for pair in tagged_train_words if pair[1]=='VERB']\n",
    "ed_verbs = [pair for pair in verbs if pair[0].endswith('ed')]\n",
    "print(len(ed_verbs) / len(verbs))\n",
    "ed_verbs[:10]"
   ]
  },
  {
   "cell_type": "markdown",
   "metadata": {},
   "source": [
    "**Finding :** 21% words in the training set are verbs which end with 'ed'"
   ]
  },
  {
   "cell_type": "code",
   "execution_count": 44,
   "metadata": {},
   "outputs": [
    {
     "name": "stdout",
     "output_type": "stream",
     "text": [
      "0.10844686648501363\n"
     ]
    },
    {
     "data": {
      "text/plain": [
       "[('limiting', 'VERB'),\n",
       " ('admitting', 'VERB'),\n",
       " ('denying', 'VERB'),\n",
       " ('apologizing', 'VERB'),\n",
       " ('making', 'VERB'),\n",
       " ('indulging', 'VERB'),\n",
       " ('according', 'VERB'),\n",
       " ('worrying', 'VERB'),\n",
       " ('manufacturing', 'VERB'),\n",
       " ('According', 'VERB')]"
      ]
     },
     "execution_count": 44,
     "metadata": {},
     "output_type": "execute_result"
    }
   ],
   "source": [
    "# Check the percentage of verbs which are classifed as 'VERB' which end with 'ing'\n",
    "verbs = [pair for pair in tagged_train_words if pair[1]=='VERB']\n",
    "ing_verbs = [pair for pair in verbs if pair[0].endswith('ing')]\n",
    "print(len(ing_verbs) / len(verbs))\n",
    "ing_verbs[:10]"
   ]
  },
  {
   "cell_type": "markdown",
   "metadata": {},
   "source": [
    "**Finding :** ~11% words in the training set are verbs which end with 'ing'"
   ]
  },
  {
   "cell_type": "code",
   "execution_count": 45,
   "metadata": {},
   "outputs": [
    {
     "name": "stdout",
     "output_type": "stream",
     "text": [
      "0.02631374075515765\n"
     ]
    },
    {
     "data": {
      "text/plain": [
       "[('involves', 'VERB'),\n",
       " ('comes', 'VERB'),\n",
       " ('becomes', 'VERB'),\n",
       " ('acquires', 'VERB'),\n",
       " ('gives', 'VERB'),\n",
       " ('refuses', 'VERB'),\n",
       " ('retires', 'VERB'),\n",
       " ('publishes', 'VERB'),\n",
       " ('does', 'VERB'),\n",
       " ('declines', 'VERB')]"
      ]
     },
     "execution_count": 45,
     "metadata": {},
     "output_type": "execute_result"
    }
   ],
   "source": [
    "# Check the percentage of verbs which are classifed as 'VERB' which end with 'es'\n",
    "verbs = [pair for pair in tagged_train_words if pair[1]=='VERB']\n",
    "es_verbs = [pair for pair in verbs if pair[0].endswith('es')]\n",
    "print(len(es_verbs) / len(verbs))\n",
    "es_verbs[:10]"
   ]
  },
  {
   "cell_type": "markdown",
   "metadata": {},
   "source": [
    "**Finding :** ~3% words in the training set are verbs which end with 'es'"
   ]
  },
  {
   "cell_type": "code",
   "execution_count": 46,
   "metadata": {},
   "outputs": [
    {
     "name": "stdout",
     "output_type": "stream",
     "text": [
      "0.2808127914723518\n"
     ]
    },
    {
     "data": {
      "text/plain": [
       "[('publicly', 'ADV'),\n",
       " ('indefinitely', 'ADV'),\n",
       " ('vertically', 'ADV'),\n",
       " ('globally', 'ADV'),\n",
       " ('easily', 'ADV'),\n",
       " ('highly', 'ADV'),\n",
       " ('temporarily', 'ADV'),\n",
       " ('only', 'ADV'),\n",
       " ('consistently', 'ADV'),\n",
       " ('generally', 'ADV')]"
      ]
     },
     "execution_count": 46,
     "metadata": {},
     "output_type": "execute_result"
    }
   ],
   "source": [
    "# Check the percentage of adverbs which are classifed as 'ADV' which end with 'ly'\n",
    "advs = [pair for pair in tagged_train_words if pair[1]=='ADV']\n",
    "ly_advs = [pair for pair in advs if pair[0].endswith('ly')]\n",
    "print(len(ly_advs) / len(advs))\n",
    "ly_advs[:10]"
   ]
  },
  {
   "cell_type": "markdown",
   "metadata": {},
   "source": [
    "**Finding :** 28% words in the training set are adverbs which end with 'ly'"
   ]
  },
  {
   "cell_type": "code",
   "execution_count": 47,
   "metadata": {},
   "outputs": [
    {
     "name": "stdout",
     "output_type": "stream",
     "text": [
      "0.019565577847786435\n"
     ]
    },
    {
     "data": {
      "text/plain": [
       "[('profitable', 'ADJ'),\n",
       " ('distributable', 'ADJ'),\n",
       " ('sizable', 'ADJ'),\n",
       " ('able', 'ADJ'),\n",
       " ('questionable', 'ADJ'),\n",
       " ('able', 'ADJ'),\n",
       " ('able', 'ADJ'),\n",
       " ('salable', 'ADJ'),\n",
       " ('favorable', 'ADJ'),\n",
       " ('non-callable', 'ADJ')]"
      ]
     },
     "execution_count": 47,
     "metadata": {},
     "output_type": "execute_result"
    }
   ],
   "source": [
    "# Check the percentage of verbs which are classifed as 'ADJ' which end with 'able'\n",
    "adjs = [pair for pair in tagged_train_words if pair[1]=='ADJ']\n",
    "able_adjs = [pair for pair in adjs if pair[0].endswith('able')]\n",
    "print(len(able_adjs) / len(adjs))\n",
    "able_adjs[:10]"
   ]
  },
  {
   "cell_type": "markdown",
   "metadata": {},
   "source": [
    "**Finding :** ~2% of words in the training set are adjectives which end with 'able'"
   ]
  },
  {
   "cell_type": "markdown",
   "metadata": {},
   "source": [
    "From the heat map, we see that adjectives(ADJ) and determinants(DET) have a association with Noun in the training set. Lets see the pattern these POS tags follow"
   ]
  },
  {
   "cell_type": "code",
   "execution_count": 48,
   "metadata": {},
   "outputs": [
    {
     "name": "stdout",
     "output_type": "stream",
     "text": [
      "0.6992206930857238\n"
     ]
    }
   ],
   "source": [
    "# Calculate the percentage of adjective tags followed by nouns\n",
    "\n",
    "# create a list of all tags from the training list\n",
    "tags = [pair[1] for pair in tagged_train_words]\n",
    "\n",
    "# create a list of ADJ tags\n",
    "adj_tags = [t for t in tags if t == 'ADJ']\n",
    "\n",
    "# create a list of (ADJ, Noun) tags\n",
    "adj_noun_tags = [(t, tags[index+1]) for index, t in enumerate(tags) if t=='ADJ' and tags[index+1]=='NOUN']\n",
    "\n",
    "print(len(adj_noun_tags) / len(adj_tags))"
   ]
  },
  {
   "cell_type": "markdown",
   "metadata": {},
   "source": [
    "**Finding :** Around 70% of adjectives are followed by Nouns"
   ]
  },
  {
   "cell_type": "code",
   "execution_count": 49,
   "metadata": {},
   "outputs": [
    {
     "name": "stdout",
     "output_type": "stream",
     "text": [
      "0.6383621210291098\n"
     ]
    }
   ],
   "source": [
    "# Check the percentage of determinant tags followed by nouns\n",
    "dt_tags = [t for t in tags if t == 'DET']\n",
    "dt_noun_tags = [(t, tags[index+1]) for index, t in enumerate(tags) if t=='DET' and tags[index+1]=='NOUN']\n",
    "\n",
    "print(len(dt_noun_tags) / len(dt_tags))"
   ]
  },
  {
   "cell_type": "markdown",
   "metadata": {},
   "source": [
    "**Finding :** Around 64% of determinants are followed by Nouns"
   ]
  },
  {
   "cell_type": "markdown",
   "metadata": {},
   "source": [
    "## Modify Viterbi Algorithm"
   ]
  },
  {
   "cell_type": "markdown",
   "metadata": {},
   "source": [
    "### Method 1 : Rule based technique"
   ]
  },
  {
   "cell_type": "markdown",
   "metadata": {},
   "source": [
    "**From the EDA performed above, we see the following rules deem fit for modifying Viterbi algorithm using rule based technique**"
   ]
  },
  {
   "cell_type": "code",
   "execution_count": 50,
   "metadata": {},
   "outputs": [],
   "source": [
    "# specify morphological patterns for tagging\n",
    "patterns = [\n",
    "    (r'.*ing$', 'VERB'),                       # gerund\n",
    "    (r'.*ed$', 'VERB'),                        # past tense\n",
    "    (r'.*es$', 'VERB'),                        # 3rd singular present\n",
    "    (r'.*able$', 'ADJ'),                       # adjectives  \n",
    "    (r'.*\\'s$', 'NOUN'),                       # possessive nouns\n",
    "    (r'.*s$', 'NOUN'),                         # plural nouns\n",
    "    (r'[0-9]{4}', 'NUM'),                      # year to be represented as numbers\n",
    "    (r'^-?[0-9]+(.[0-9]+)?$', 'NUM'),          # cardinal numbers\n",
    "    (r'.*ly$', 'ADV'),                         # adverbs\n",
    "    (r'^\\*.*', 'X'),                           # foreign words\n",
    "    (r'.*', 'NOUN')                            # nouns\n",
    "]"
   ]
  },
  {
   "cell_type": "code",
   "execution_count": 51,
   "metadata": {},
   "outputs": [],
   "source": [
    "# rule based tagger\n",
    "rule_based_tagger = nltk.RegexpTagger(patterns)\n",
    "\n",
    "# unigram tagger backed up by the rule-based tagger\n",
    "unigram_tagger = nltk.UnigramTagger(train_set, backoff=rule_based_tagger)\n",
    "\n",
    "# bigram tagger backed up by the unigram tagger\n",
    "rule_based_tagger = nltk.BigramTagger(train_set, backoff=unigram_tagger)"
   ]
  },
  {
   "cell_type": "code",
   "execution_count": 52,
   "metadata": {},
   "outputs": [
    {
     "data": {
      "text/plain": [
       "0.9552806850618458"
      ]
     },
     "execution_count": 52,
     "metadata": {},
     "output_type": "execute_result"
    }
   ],
   "source": [
    "# Accuracy of the rule based tagger on validation set\n",
    "rule_based_tagger.evaluate(validation_set)"
   ]
  },
  {
   "cell_type": "code",
   "execution_count": 53,
   "metadata": {},
   "outputs": [],
   "source": [
    "#rule_based_tagger.tag(Validation_unknownwords)"
   ]
  },
  {
   "cell_type": "code",
   "execution_count": 54,
   "metadata": {},
   "outputs": [],
   "source": [
    "#rule_based_tagger.tag(Test_unknownwords)"
   ]
  },
  {
   "cell_type": "code",
   "execution_count": 55,
   "metadata": {},
   "outputs": [],
   "source": [
    "# Modified Viterbi Heuristic\n",
    "def Viterbi_updated1(words, train_bag = tagged_train_words):\n",
    "    state = []\n",
    "    T = list(set([pair[1] for pair in train_bag]))\n",
    "    \n",
    "    for key, word in enumerate(words):\n",
    "        #initialise list of probability column for a given observation\n",
    "        p = [] \n",
    "        for tag in T:\n",
    "            if key == 0:\n",
    "                transition_p = tags_df.loc['.', tag]\n",
    "            else:\n",
    "                transition_p = tags_df.loc[state[-1], tag]\n",
    "                \n",
    "            # compute emission and state probabilities\n",
    "            emission_p = word_given_tag(words[key], tag)[0]/word_given_tag(words[key], tag)[1]\n",
    "            state_probability = emission_p * transition_p    \n",
    "            p.append(state_probability)\n",
    "            \n",
    "        pmax = max(p)\n",
    "       \n",
    "        #Check if state probability is zero\n",
    "        if(pmax==0.0):\n",
    "            #If True, the word is unknown and the tag is updated based on the customised pos tagger\n",
    "            state_max = rule_based_tagger.tag([word])[0][1]\n",
    "        else:\n",
    "            # getting state for which probability is maximum\n",
    "            state_max = T[p.index(pmax)] \n",
    "        state.append(state_max)\n",
    "    return list(zip(words, state))"
   ]
  },
  {
   "cell_type": "markdown",
   "metadata": {},
   "source": [
    "#### Evaluating tagging accuracy on Validation set for method 1"
   ]
  },
  {
   "cell_type": "code",
   "execution_count": 56,
   "metadata": {},
   "outputs": [
    {
     "name": "stdout",
     "output_type": "stream",
     "text": [
      "59.13756227493286\n",
      "[('Trading', 'NOUN'), ('was', 'VERB'), ('muted', 'VERB'), ('*-1', 'X'), ('in', 'ADP'), ('part', 'NOUN'), ('because', 'ADP'), ('of', 'ADP'), ('the', 'DET'), ('observance', 'NOUN'), ('of', 'ADP'), ('All', 'DET'), ('Saints', 'NOUN'), (\"'\", 'PRT'), ('Day', 'NOUN'), ('across', 'ADP'), ('much', 'ADJ'), ('of', 'ADP'), ('Europe', 'NOUN'), ('.', '.'), ('In', 'ADP'), ('California', 'NOUN'), (',', '.'), ('two', 'NUM'), ('petition', 'NOUN'), ('drives', 'VERB'), ('for', 'ADP'), ('next', 'ADJ'), ('year', 'NOUN'), (\"'s\", 'PRT'), ('election', 'NOUN'), ('are', 'VERB'), ('``', '.'), ('essentially', 'ADV'), ('finished', 'VERB'), (',', '.'), (\"''\", '.'), ('says', 'VERB'), ('0', 'X'), ('*T*-1', 'X'), ('David', 'NOUN'), ('Schmidt', 'NOUN'), (',', '.'), ('author', 'NOUN'), ('of', 'ADP'), ('``', '.'), ('Citizen', 'NOUN'), ('Lawmakers', 'NOUN'), ('.', '.'), (\"''\", '.'), ('Since', 'ADP'), ('the', 'DET'), ('reforms', 'NOUN'), ('went', 'VERB'), ('in', 'ADP'), ('place', 'NOUN'), (',', '.'), ('for', 'ADP'), ('example', 'NOUN'), (',', '.'), ('no', 'DET'), ('state', 'NOUN'), ('has', 'VERB'), ('posted', 'VERB'), ('a', 'DET'), ('higher', 'ADJ'), ('rate', 'NOUN'), ('of', 'ADP'), ('improvement', 'NOUN'), ('on', 'ADP'), ('the', 'DET'), ('Scholastic', 'NOUN'), ('Aptitude', 'NOUN'), ('Test', 'NOUN'), ('than', 'ADP'), ('South', 'NOUN'), ('Carolina', 'NOUN'), ('*?*', 'X'), (',', '.'), ('although', 'ADP'), ('the', 'DET'), ('state', 'NOUN'), ('still', 'ADV'), ('posts', 'NOUN'), ('the', 'DET'), ('lowest', 'ADJ'), ('average', 'NOUN'), ('score', 'NOUN'), ('of', 'ADP'), ('the', 'DET'), ('about', 'ADP'), ('21', 'NUM'), ('states', 'NOUN'), ('who', 'PRON'), ('*T*-87', 'X'), ('use', 'VERB'), ('the', 'DET'), ('SAT', 'NOUN'), ('as', 'ADP'), ('the', 'DET'), ('primary', 'ADJ'), ('college', 'NOUN'), ('entrance', 'NOUN'), ('examination', 'NOUN'), ('.', '.'), ('Campbell', 'NOUN'), ('Soup', 'NOUN'), (',', '.'), ('for', 'ADP'), ('one', 'NUM'), (',', '.'), ('is', 'VERB'), ('furious', 'NOUN'), ('0', 'X'), ('its', 'PRON'), ('Souper', 'NOUN'), ('Combo', 'NOUN'), ('microwave', 'NOUN'), ('product', 'NOUN'), ('was', 'VERB'), ('chastised', 'VERB'), ('*-79', 'X'), ('in', 'ADP'), ('the', 'DET'), ('premiere', 'NOUN'), ('``', '.'), ('In', 'ADP'), ('the', 'DET'), ('Dumpster', 'NOUN'), (\"''\", '.'), ('column', 'NOUN'), ('.', '.'), ('``', '.'), ('We', 'PRON'), (\"'re\", 'VERB'), ('pleased', 'VERB'), ('0', 'X'), ('the', 'DET'), ('ABA', 'NOUN'), ('rated', 'VERB'), ('him', 'PRON'), ('qualified', 'VERB'), (',', '.'), (\"''\", '.'), ('David', 'NOUN'), ('Runkel', 'NOUN'), (',', '.'), ('the', 'DET'), ('department', 'NOUN'), (\"'s\", 'PRT'), ('chief', 'NOUN'), ('spokesman', 'NOUN'), (',', '.'), ('said', 'VERB'), ('*T*-1', 'X'), ('in', 'ADP'), ('an', 'DET'), ('interview', 'NOUN'), ('.', '.')]\n"
     ]
    }
   ],
   "source": [
    "# Tagging the validation sentences with the updated Viterbi algorithm using method 1\n",
    "start = time.time()\n",
    "updated_val_tagged_seq1 = Viterbi_updated1(val_tagged_words)\n",
    "end = time.time()\n",
    "\n",
    "# Total time taken to train the algorithm\n",
    "difference = end-start\n",
    "print(difference)\n",
    "\n",
    "# Updated tagged validation set\n",
    "print(updated_val_tagged_seq1)"
   ]
  },
  {
   "cell_type": "markdown",
   "metadata": {},
   "source": [
    "#### Accuracy on validation set for the updated Viterbi algorithm using method 1"
   ]
  },
  {
   "cell_type": "code",
   "execution_count": 57,
   "metadata": {},
   "outputs": [
    {
     "data": {
      "text/plain": [
       "0.9622641509433962"
      ]
     },
     "execution_count": 57,
     "metadata": {},
     "output_type": "execute_result"
    }
   ],
   "source": [
    "check = [i for i, j in zip(updated_val_tagged_seq1, val_run_base) if i == j] \n",
    "accuracy = len(check)/len(updated_val_tagged_seq1)\n",
    "accuracy"
   ]
  },
  {
   "cell_type": "markdown",
   "metadata": {},
   "source": [
    "#### Evaluating tagging accuracy on Test set for method 1"
   ]
  },
  {
   "cell_type": "code",
   "execution_count": 58,
   "metadata": {},
   "outputs": [
    {
     "name": "stdout",
     "output_type": "stream",
     "text": [
      "70.85744166374207\n",
      "[('Android', 'NOUN'), ('is', 'VERB'), ('a', 'DET'), ('mobile', 'ADJ'), ('operating', 'NOUN'), ('system', 'NOUN'), ('developed', 'VERB'), ('by', 'ADP'), ('Google', 'NOUN'), ('.', '.'), ('Android', 'NOUN'), ('has', 'VERB'), ('been', 'VERB'), ('the', 'DET'), ('best-selling', 'VERB'), ('OS', 'NOUN'), ('worldwide', 'NOUN'), ('on', 'ADP'), ('smartphones', 'VERB'), ('since', 'ADP'), ('2011', 'NUM'), ('and', 'CONJ'), ('on', 'ADP'), ('tablets', 'NOUN'), ('since', 'ADP'), ('2013', 'NUM'), ('.', '.'), ('Google', 'NOUN'), ('and', 'CONJ'), ('Twitter', 'NOUN'), ('made', 'VERB'), ('a', 'DET'), ('deal', 'NOUN'), ('in', 'ADP'), ('2015', 'NUM'), ('that', 'ADP'), ('gave', 'VERB'), ('Google', 'NOUN'), ('access', 'NOUN'), ('to', 'PRT'), ('Twitter', 'NOUN'), (\"'s\", 'PRT'), ('firehose', 'NOUN'), ('.', '.'), ('Twitter', 'NOUN'), ('is', 'VERB'), ('an', 'DET'), ('online', 'NOUN'), ('news', 'NOUN'), ('and', 'CONJ'), ('social', 'ADJ'), ('networking', 'NOUN'), ('service', 'NOUN'), ('on', 'ADP'), ('which', 'DET'), ('users', 'NOUN'), ('post', 'NOUN'), ('and', 'CONJ'), ('interact', 'NOUN'), ('with', 'ADP'), ('messages', 'VERB'), ('known', 'VERB'), ('as', 'ADP'), ('tweets', 'NOUN'), ('.', '.'), ('Before', 'ADP'), ('entering', 'VERB'), ('politics', 'NOUN'), (',', '.'), ('Donald', 'NOUN'), ('Trump', 'NOUN'), ('was', 'VERB'), ('a', 'DET'), ('domineering', 'VERB'), ('businessman', 'NOUN'), ('and', 'CONJ'), ('a', 'DET'), ('television', 'NOUN'), ('personality', 'NOUN'), ('.', '.'), ('The', 'DET'), ('2018', 'NUM'), ('FIFA', 'NOUN'), ('World', 'NOUN'), ('Cup', 'NOUN'), ('is', 'VERB'), ('the', 'DET'), ('21st', 'NOUN'), ('FIFA', 'NOUN'), ('World', 'NOUN'), ('Cup', 'NOUN'), (',', '.'), ('an', 'DET'), ('international', 'ADJ'), ('football', 'NOUN'), ('tournament', 'NOUN'), ('contested', 'VERB'), ('once', 'ADV'), ('every', 'DET'), ('four', 'NUM'), ('years', 'NOUN'), ('.', '.'), ('This', 'DET'), ('is', 'VERB'), ('the', 'DET'), ('first', 'ADJ'), ('World', 'NOUN'), ('Cup', 'NOUN'), ('to', 'PRT'), ('be', 'VERB'), ('held', 'VERB'), ('in', 'ADP'), ('Eastern', 'NOUN'), ('Europe', 'NOUN'), ('and', 'CONJ'), ('the', 'DET'), ('11th', 'NOUN'), ('time', 'NOUN'), ('that', 'ADP'), ('it', 'PRON'), ('has', 'VERB'), ('been', 'VERB'), ('held', 'VERB'), ('in', 'ADP'), ('Europe', 'NOUN'), ('.', '.'), ('Show', 'NOUN'), ('me', 'PRON'), ('the', 'DET'), ('cheapest', 'ADJ'), ('round', 'NOUN'), ('trips', 'NOUN'), ('from', 'ADP'), ('Dallas', 'NOUN'), ('to', 'PRT'), ('Atlanta', 'NOUN'), ('I', 'PRON'), ('would', 'VERB'), ('like', 'ADP'), ('to', 'PRT'), ('see', 'VERB'), ('flights', 'NOUN'), ('from', 'ADP'), ('Denver', 'NOUN'), ('to', 'PRT'), ('Philadelphia', 'NOUN'), ('.', '.'), ('Show', 'NOUN'), ('me', 'PRON'), ('the', 'DET'), ('price', 'NOUN'), ('of', 'ADP'), ('the', 'DET'), ('flights', 'NOUN'), ('leaving', 'VERB'), ('Atlanta', 'NOUN'), ('at', 'ADP'), ('about', 'ADP'), ('3', 'NUM'), ('in', 'ADP'), ('the', 'DET'), ('afternoon', 'NOUN'), ('and', 'CONJ'), ('arriving', 'VERB'), ('in', 'ADP'), ('San', 'NOUN'), ('Francisco', 'NOUN'), ('.', '.'), ('NASA', 'NOUN'), ('invited', 'VERB'), ('social', 'ADJ'), ('media', 'NOUN'), ('users', 'NOUN'), ('to', 'PRT'), ('experience', 'NOUN'), ('the', 'DET'), ('launch', 'NOUN'), ('of', 'ADP'), ('ICESAT-2', 'NOUN'), ('Satellite', 'NOUN'), ('.', '.')]\n"
     ]
    }
   ],
   "source": [
    "# Tagging the test sentences with the updated Viterbi algorithm using method 1\n",
    "start = time.time()\n",
    "updated_test_tagged_seq1 = Viterbi_updated1(test_tokens)\n",
    "end = time.time()\n",
    "\n",
    "# Total time taken to train the algorithm\n",
    "difference = end-start\n",
    "print(difference)\n",
    "\n",
    "# Updated tagged test set\n",
    "print(updated_test_tagged_seq1)"
   ]
  },
  {
   "cell_type": "markdown",
   "metadata": {},
   "source": [
    "#### Accuracy on test set for the updated Viterbi algorithm using method 1"
   ]
  },
  {
   "cell_type": "code",
   "execution_count": 59,
   "metadata": {},
   "outputs": [
    {
     "data": {
      "text/plain": [
       "0.9226519337016574"
      ]
     },
     "execution_count": 59,
     "metadata": {},
     "output_type": "execute_result"
    }
   ],
   "source": [
    "check = [i for i, j in zip(updated_test_tagged_seq1, test_set) if i == j] \n",
    "accuracy = len(check)/len(updated_test_tagged_seq1)\n",
    "accuracy"
   ]
  },
  {
   "cell_type": "markdown",
   "metadata": {},
   "source": [
    "#### Incorrectly tagged words by the updated Viterbi algorithm using method 1"
   ]
  },
  {
   "cell_type": "code",
   "execution_count": 60,
   "metadata": {
    "scrolled": true
   },
   "outputs": [
    {
     "name": "stdout",
     "output_type": "stream",
     "text": [
      "14\n"
     ]
    },
    {
     "data": {
      "text/plain": [
       "[(('best-selling', 'VERB'), ('best-selling', 'ADJ')),\n",
       " (('smartphones', 'VERB'), ('smartphones', 'NOUN')),\n",
       " (('that', 'ADP'), ('that', 'DET')),\n",
       " (('online', 'NOUN'), ('online', 'ADJ')),\n",
       " (('messages', 'VERB'), ('messages', 'NOUN')),\n",
       " (('domineering', 'VERB'), ('domineering', 'ADJ')),\n",
       " (('21st', 'NOUN'), ('21st', 'NUM')),\n",
       " (('11th', 'NOUN'), ('11th', 'NUM')),\n",
       " (('Show', 'NOUN'), ('Show', 'VERB')),\n",
       " (('like', 'ADP'), ('like', 'VERB')),\n",
       " (('Show', 'NOUN'), ('Show', 'VERB')),\n",
       " (('about', 'ADP'), ('about', 'ADV')),\n",
       " (('arriving', 'VERB'), ('arriving', 'NOUN')),\n",
       " (('experience', 'NOUN'), ('experience', 'VERB'))]"
      ]
     },
     "execution_count": 60,
     "metadata": {},
     "output_type": "execute_result"
    }
   ],
   "source": [
    "incorrect_tagged_cases = [j for i, j in enumerate(zip(updated_test_tagged_seq1, test_set)) if j[0]!=j[1]]\n",
    "print(len(incorrect_tagged_cases))\n",
    "incorrect_tagged_cases"
   ]
  },
  {
   "cell_type": "markdown",
   "metadata": {},
   "source": [
    "**Insight** :\n",
    "\n",
    "The original Viterbi algorithm has __40+__ words incorrectly pos tagged while the modified Viterbi algorithm using method 1 has __only 14__ words incorrectly pos tagged."
   ]
  },
  {
   "cell_type": "markdown",
   "metadata": {},
   "source": [
    "### Method 2: Probability based approach for unknown words"
   ]
  },
  {
   "cell_type": "markdown",
   "metadata": {},
   "source": [
    "We know that the emission probability of an unknown word is zero. Taking this into account, we calculate the state probability using only transition probability for unknown words and rest of the words consider the state probability as a product of emission and transition probabilities."
   ]
  },
  {
   "cell_type": "code",
   "execution_count": 61,
   "metadata": {},
   "outputs": [],
   "source": [
    "# Modified Viterbi Heuristic\n",
    "def Viterbi_updated2(words, test_bag, train_bag = tagged_train_words):\n",
    "    state = []\n",
    "    T = list(set([pair[1] for pair in train_bag]))\n",
    "    \n",
    "    for key, word in enumerate(words):\n",
    "        #initialise list of probability column for a given observation\n",
    "        p = [] \n",
    "        for tag in T:\n",
    "            if key == 0:\n",
    "                transition_p = tags_df.loc['.', tag]\n",
    "            else:\n",
    "                transition_p = tags_df.loc[state[-1], tag]\n",
    "                \n",
    "            # compute emission and state probabilities\n",
    "            emission_p = word_given_tag(words[key], tag)[0]/word_given_tag(words[key], tag)[1]\n",
    "            # Check if the word belongs to the unknown words list\n",
    "            if word in test_bag:\n",
    "                # If True, choose state probability = transition probability as emission probability for unknown words is zero.\n",
    "                state_probability = transition_p\n",
    "            else:\n",
    "                state_probability = emission_p * transition_p    \n",
    "            p.append(state_probability)\n",
    "            \n",
    "        pmax = max(p)\n",
    "        # getting state for which probability is maximum\n",
    "        state_max = T[p.index(pmax)] \n",
    "        state.append(state_max)\n",
    "    return list(zip(words, state))"
   ]
  },
  {
   "cell_type": "markdown",
   "metadata": {},
   "source": [
    "#### Evaluating tagging accuracy on Validation set for method 2"
   ]
  },
  {
   "cell_type": "code",
   "execution_count": 62,
   "metadata": {},
   "outputs": [
    {
     "name": "stdout",
     "output_type": "stream",
     "text": [
      "75.11507964134216\n",
      "[('Trading', 'NOUN'), ('was', 'VERB'), ('muted', 'X'), ('*-1', 'X'), ('in', 'ADP'), ('part', 'NOUN'), ('because', 'ADP'), ('of', 'ADP'), ('the', 'DET'), ('observance', 'NOUN'), ('of', 'ADP'), ('All', 'DET'), ('Saints', 'NOUN'), (\"'\", 'PRT'), ('Day', 'VERB'), ('across', 'ADP'), ('much', 'ADJ'), ('of', 'ADP'), ('Europe', 'NOUN'), ('.', '.'), ('In', 'ADP'), ('California', 'NOUN'), (',', '.'), ('two', 'NUM'), ('petition', 'NOUN'), ('drives', 'NOUN'), ('for', 'ADP'), ('next', 'ADJ'), ('year', 'NOUN'), (\"'s\", 'PRT'), ('election', 'VERB'), ('are', 'VERB'), ('``', '.'), ('essentially', 'ADV'), ('finished', 'VERB'), (',', '.'), (\"''\", '.'), ('says', 'VERB'), ('0', 'X'), ('*T*-1', 'X'), ('David', 'NOUN'), ('Schmidt', 'NOUN'), (',', '.'), ('author', 'NOUN'), ('of', 'ADP'), ('``', '.'), ('Citizen', 'NOUN'), ('Lawmakers', 'NOUN'), ('.', '.'), (\"''\", '.'), ('Since', 'ADP'), ('the', 'DET'), ('reforms', 'NOUN'), ('went', 'VERB'), ('in', 'ADP'), ('place', 'NOUN'), (',', '.'), ('for', 'ADP'), ('example', 'NOUN'), (',', '.'), ('no', 'DET'), ('state', 'NOUN'), ('has', 'VERB'), ('posted', 'VERB'), ('a', 'DET'), ('higher', 'ADJ'), ('rate', 'NOUN'), ('of', 'ADP'), ('improvement', 'NOUN'), ('on', 'ADP'), ('the', 'DET'), ('Scholastic', 'NOUN'), ('Aptitude', 'NOUN'), ('Test', 'NOUN'), ('than', 'ADP'), ('South', 'NOUN'), ('Carolina', 'NOUN'), ('*?*', 'X'), (',', '.'), ('although', 'ADP'), ('the', 'DET'), ('state', 'NOUN'), ('still', 'ADV'), ('posts', 'NOUN'), ('the', 'DET'), ('lowest', 'ADJ'), ('average', 'NOUN'), ('score', 'NOUN'), ('of', 'ADP'), ('the', 'DET'), ('about', 'ADP'), ('21', 'NUM'), ('states', 'NOUN'), ('who', 'PRON'), ('*T*-87', 'VERB'), ('use', 'VERB'), ('the', 'DET'), ('SAT', 'NOUN'), ('as', 'ADP'), ('the', 'DET'), ('primary', 'ADJ'), ('college', 'NOUN'), ('entrance', 'NOUN'), ('examination', 'NOUN'), ('.', '.'), ('Campbell', 'NOUN'), ('Soup', 'NOUN'), (',', '.'), ('for', 'ADP'), ('one', 'NUM'), (',', '.'), ('is', 'VERB'), ('furious', 'X'), ('0', 'X'), ('its', 'PRON'), ('Souper', 'NOUN'), ('Combo', 'NOUN'), ('microwave', 'NOUN'), ('product', 'NOUN'), ('was', 'VERB'), ('chastised', 'VERB'), ('*-79', 'X'), ('in', 'ADP'), ('the', 'DET'), ('premiere', 'NOUN'), ('``', '.'), ('In', 'ADP'), ('the', 'DET'), ('Dumpster', 'NOUN'), (\"''\", '.'), ('column', 'NOUN'), ('.', '.'), ('``', '.'), ('We', 'PRON'), (\"'re\", 'VERB'), ('pleased', 'VERB'), ('0', 'X'), ('the', 'DET'), ('ABA', 'NOUN'), ('rated', 'VERB'), ('him', 'PRON'), ('qualified', 'VERB'), (',', '.'), (\"''\", '.'), ('David', 'NOUN'), ('Runkel', 'NOUN'), (',', '.'), ('the', 'DET'), ('department', 'NOUN'), (\"'s\", 'PRT'), ('chief', 'NOUN'), ('spokesman', 'NOUN'), (',', '.'), ('said', 'VERB'), ('*T*-1', 'X'), ('in', 'ADP'), ('an', 'DET'), ('interview', 'NOUN'), ('.', '.')]\n"
     ]
    }
   ],
   "source": [
    "# Tagging the validation sentences with the updated Viterbi algorithm using method 2\n",
    "start = time.time()\n",
    "updated_val_tagged_seq2 = Viterbi_updated2(val_tagged_words, Validation_unknownwords)\n",
    "end = time.time()\n",
    "\n",
    "# Total time taken to train the algorithm\n",
    "difference = end-start\n",
    "print(difference)\n",
    "\n",
    "# Updated tagged validation set\n",
    "print(updated_val_tagged_seq2)"
   ]
  },
  {
   "cell_type": "markdown",
   "metadata": {},
   "source": [
    "#### Accuracy on validation set for the updated Viterbi algorithm using method 2"
   ]
  },
  {
   "cell_type": "code",
   "execution_count": 63,
   "metadata": {},
   "outputs": [
    {
     "data": {
      "text/plain": [
       "0.9433962264150944"
      ]
     },
     "execution_count": 63,
     "metadata": {},
     "output_type": "execute_result"
    }
   ],
   "source": [
    "check = [i for i, j in zip(updated_val_tagged_seq2, val_run_base) if i == j] \n",
    "accuracy = len(check)/len(updated_val_tagged_seq2)\n",
    "accuracy"
   ]
  },
  {
   "cell_type": "markdown",
   "metadata": {},
   "source": [
    "#### Evaluating tagging accuracy on Test set for method 2"
   ]
  },
  {
   "cell_type": "code",
   "execution_count": 64,
   "metadata": {},
   "outputs": [
    {
     "name": "stdout",
     "output_type": "stream",
     "text": [
      "69.15784549713135\n",
      "[('Android', 'NOUN'), ('is', 'VERB'), ('a', 'DET'), ('mobile', 'ADJ'), ('operating', 'NOUN'), ('system', 'NOUN'), ('developed', 'VERB'), ('by', 'ADP'), ('Google', 'DET'), ('.', '.'), ('Android', 'NOUN'), ('has', 'VERB'), ('been', 'VERB'), ('the', 'DET'), ('best-selling', 'NOUN'), ('OS', 'NOUN'), ('worldwide', 'NOUN'), ('on', 'ADP'), ('smartphones', 'DET'), ('since', 'ADP'), ('2011', 'DET'), ('and', 'CONJ'), ('on', 'ADP'), ('tablets', 'NOUN'), ('since', 'ADP'), ('2013', 'DET'), ('.', '.'), ('Google', 'NOUN'), ('and', 'CONJ'), ('Twitter', 'NOUN'), ('made', 'VERB'), ('a', 'DET'), ('deal', 'NOUN'), ('in', 'ADP'), ('2015', 'DET'), ('that', 'ADP'), ('gave', 'VERB'), ('Google', 'X'), ('access', 'NOUN'), ('to', 'PRT'), ('Twitter', 'VERB'), (\"'s\", 'PRT'), ('firehose', 'VERB'), ('.', '.'), ('Twitter', 'NOUN'), ('is', 'VERB'), ('an', 'DET'), ('online', 'NOUN'), ('news', 'NOUN'), ('and', 'CONJ'), ('social', 'ADJ'), ('networking', 'NOUN'), ('service', 'NOUN'), ('on', 'ADP'), ('which', 'DET'), ('users', 'NOUN'), ('post', 'NOUN'), ('and', 'CONJ'), ('interact', 'NOUN'), ('with', 'ADP'), ('messages', 'DET'), ('known', 'ADJ'), ('as', 'ADP'), ('tweets', 'DET'), ('.', '.'), ('Before', 'ADP'), ('entering', 'VERB'), ('politics', 'NOUN'), (',', '.'), ('Donald', 'NOUN'), ('Trump', 'NOUN'), ('was', 'VERB'), ('a', 'DET'), ('domineering', 'NOUN'), ('businessman', 'NOUN'), ('and', 'CONJ'), ('a', 'DET'), ('television', 'NOUN'), ('personality', 'NOUN'), ('.', '.'), ('The', 'DET'), ('2018', 'NOUN'), ('FIFA', 'NOUN'), ('World', 'NOUN'), ('Cup', 'NOUN'), ('is', 'VERB'), ('the', 'DET'), ('21st', 'NOUN'), ('FIFA', 'NOUN'), ('World', 'NOUN'), ('Cup', 'NOUN'), (',', '.'), ('an', 'DET'), ('international', 'ADJ'), ('football', 'NOUN'), ('tournament', 'NOUN'), ('contested', 'NOUN'), ('once', 'ADV'), ('every', 'DET'), ('four', 'NUM'), ('years', 'NOUN'), ('.', '.'), ('This', 'DET'), ('is', 'VERB'), ('the', 'DET'), ('first', 'ADJ'), ('World', 'NOUN'), ('Cup', 'NOUN'), ('to', 'PRT'), ('be', 'VERB'), ('held', 'VERB'), ('in', 'ADP'), ('Eastern', 'NOUN'), ('Europe', 'NOUN'), ('and', 'CONJ'), ('the', 'DET'), ('11th', 'NOUN'), ('time', 'NOUN'), ('that', 'ADP'), ('it', 'PRON'), ('has', 'VERB'), ('been', 'VERB'), ('held', 'VERB'), ('in', 'ADP'), ('Europe', 'NOUN'), ('.', '.'), ('Show', 'NOUN'), ('me', 'PRON'), ('the', 'DET'), ('cheapest', 'ADJ'), ('round', 'NOUN'), ('trips', 'NOUN'), ('from', 'ADP'), ('Dallas', 'NOUN'), ('to', 'PRT'), ('Atlanta', 'NOUN'), ('I', 'PRON'), ('would', 'VERB'), ('like', 'ADP'), ('to', 'PRT'), ('see', 'VERB'), ('flights', 'NOUN'), ('from', 'ADP'), ('Denver', 'NOUN'), ('to', 'PRT'), ('Philadelphia', 'NOUN'), ('.', '.'), ('Show', 'NOUN'), ('me', 'PRON'), ('the', 'DET'), ('price', 'NOUN'), ('of', 'ADP'), ('the', 'DET'), ('flights', 'NOUN'), ('leaving', 'VERB'), ('Atlanta', 'NOUN'), ('at', 'ADP'), ('about', 'ADP'), ('3', 'NUM'), ('in', 'ADP'), ('the', 'DET'), ('afternoon', 'NOUN'), ('and', 'CONJ'), ('arriving', 'NOUN'), ('in', 'ADP'), ('San', 'NOUN'), ('Francisco', 'NOUN'), ('.', '.'), ('NASA', 'NOUN'), ('invited', 'NOUN'), ('social', 'ADJ'), ('media', 'NOUN'), ('users', 'NOUN'), ('to', 'PRT'), ('experience', 'NOUN'), ('the', 'DET'), ('launch', 'NOUN'), ('of', 'ADP'), ('ICESAT-2', 'DET'), ('Satellite', 'NOUN'), ('.', '.')]\n"
     ]
    }
   ],
   "source": [
    "# Tagging the test sentences with the updated Viterbi algorithm using method 2\n",
    "start = time.time()\n",
    "updated_test_tagged_seq2 = Viterbi_updated2(test_tokens,Test_unknownwords)\n",
    "end = time.time()\n",
    "\n",
    "# Total time taken to train the algorithm\n",
    "difference = end-start\n",
    "print(difference)\n",
    "\n",
    "# Updated tagged test set\n",
    "print(updated_test_tagged_seq2)"
   ]
  },
  {
   "cell_type": "markdown",
   "metadata": {},
   "source": [
    "#### Accuracy on test set for the updated Viterbi algorithm using method 2"
   ]
  },
  {
   "cell_type": "code",
   "execution_count": 65,
   "metadata": {},
   "outputs": [
    {
     "data": {
      "text/plain": [
       "0.856353591160221"
      ]
     },
     "execution_count": 65,
     "metadata": {},
     "output_type": "execute_result"
    }
   ],
   "source": [
    "check = [i for i, j in zip(updated_test_tagged_seq2, test_set) if i == j] \n",
    "accuracy = len(check)/len(updated_test_tagged_seq2)\n",
    "accuracy"
   ]
  },
  {
   "cell_type": "markdown",
   "metadata": {},
   "source": [
    "#### Incorrectly tagged words by the updated Viterbi algorithm using method 2"
   ]
  },
  {
   "cell_type": "code",
   "execution_count": 66,
   "metadata": {},
   "outputs": [
    {
     "name": "stdout",
     "output_type": "stream",
     "text": [
      "26\n"
     ]
    },
    {
     "data": {
      "text/plain": [
       "[(('Google', 'DET'), ('Google', 'NOUN')),\n",
       " (('best-selling', 'NOUN'), ('best-selling', 'ADJ')),\n",
       " (('smartphones', 'DET'), ('smartphones', 'NOUN')),\n",
       " (('2011', 'DET'), ('2011', 'NUM')),\n",
       " (('2013', 'DET'), ('2013', 'NUM')),\n",
       " (('2015', 'DET'), ('2015', 'NUM')),\n",
       " (('that', 'ADP'), ('that', 'DET')),\n",
       " (('Google', 'X'), ('Google', 'NOUN')),\n",
       " (('Twitter', 'VERB'), ('Twitter', 'NOUN')),\n",
       " (('firehose', 'VERB'), ('firehose', 'NOUN')),\n",
       " (('online', 'NOUN'), ('online', 'ADJ')),\n",
       " (('messages', 'DET'), ('messages', 'NOUN')),\n",
       " (('known', 'ADJ'), ('known', 'VERB')),\n",
       " (('tweets', 'DET'), ('tweets', 'NOUN')),\n",
       " (('domineering', 'NOUN'), ('domineering', 'ADJ')),\n",
       " (('2018', 'NOUN'), ('2018', 'NUM')),\n",
       " (('21st', 'NOUN'), ('21st', 'NUM')),\n",
       " (('contested', 'NOUN'), ('contested', 'VERB')),\n",
       " (('11th', 'NOUN'), ('11th', 'NUM')),\n",
       " (('Show', 'NOUN'), ('Show', 'VERB')),\n",
       " (('like', 'ADP'), ('like', 'VERB')),\n",
       " (('Show', 'NOUN'), ('Show', 'VERB')),\n",
       " (('about', 'ADP'), ('about', 'ADV')),\n",
       " (('invited', 'NOUN'), ('invited', 'VERB')),\n",
       " (('experience', 'NOUN'), ('experience', 'VERB')),\n",
       " (('ICESAT-2', 'DET'), ('ICESAT-2', 'NOUN'))]"
      ]
     },
     "execution_count": 66,
     "metadata": {},
     "output_type": "execute_result"
    }
   ],
   "source": [
    "incorrect_tagged_cases = [j for i, j in enumerate(zip(updated_test_tagged_seq2, test_set)) if j[0]!=j[1]]\n",
    "print(len(incorrect_tagged_cases))\n",
    "incorrect_tagged_cases"
   ]
  },
  {
   "cell_type": "markdown",
   "metadata": {},
   "source": [
    "**Insight** : \n",
    "\n",
    "The original Viterbi algorithm has __40+__ words incorrectly pos tagged while the modified Viterbi algorithm using method 2 has __26__ words incorrectly pos tagged."
   ]
  },
  {
   "cell_type": "markdown",
   "metadata": {},
   "source": [
    "### Compare the tagging accuracies of the modifications with the vanilla Viterbi algorithm"
   ]
  },
  {
   "cell_type": "markdown",
   "metadata": {},
   "source": [
    "##### Accuracy on validation and test set using the original Viterbi algorithm"
   ]
  },
  {
   "cell_type": "code",
   "execution_count": 67,
   "metadata": {},
   "outputs": [
    {
     "data": {
      "text/plain": [
       "0.8742138364779874"
      ]
     },
     "execution_count": 67,
     "metadata": {},
     "output_type": "execute_result"
    }
   ],
   "source": [
    "# Validation set with vanilla Viterbi algorithm\n",
    "check = [i for i, j in zip(tagged_val_seq, val_run_base) if i == j] \n",
    "accuracy = len(check)/len(tagged_val_seq)\n",
    "accuracy"
   ]
  },
  {
   "cell_type": "code",
   "execution_count": 68,
   "metadata": {},
   "outputs": [
    {
     "data": {
      "text/plain": [
       "0.7679558011049724"
      ]
     },
     "execution_count": 68,
     "metadata": {},
     "output_type": "execute_result"
    }
   ],
   "source": [
    "# Test set with vanilla Viterbi algorithm\n",
    "check = [i for i, j in zip(tagged_test_seq, test_set) if i == j] \n",
    "accuracy = len(check)/len(tagged_test_seq)\n",
    "accuracy"
   ]
  },
  {
   "cell_type": "markdown",
   "metadata": {},
   "source": [
    "##### Accuracy on validation and test set using the modified Viterbi algorithm with rules based approach (method 1)"
   ]
  },
  {
   "cell_type": "code",
   "execution_count": 69,
   "metadata": {},
   "outputs": [
    {
     "data": {
      "text/plain": [
       "0.9622641509433962"
      ]
     },
     "execution_count": 69,
     "metadata": {},
     "output_type": "execute_result"
    }
   ],
   "source": [
    "# Validation set with rule based Viterbi algorithm\n",
    "check = [i for i, j in zip(updated_val_tagged_seq1, val_run_base) if i == j] \n",
    "accuracy = len(check)/len(updated_val_tagged_seq1)\n",
    "accuracy"
   ]
  },
  {
   "cell_type": "code",
   "execution_count": 70,
   "metadata": {},
   "outputs": [
    {
     "data": {
      "text/plain": [
       "0.9226519337016574"
      ]
     },
     "execution_count": 70,
     "metadata": {},
     "output_type": "execute_result"
    }
   ],
   "source": [
    "# Test set with rule based Viterbi algorithm\n",
    "check = [i for i, j in zip(updated_test_tagged_seq1, test_set) if i == j] \n",
    "accuracy = len(check)/len(updated_test_tagged_seq1)\n",
    "accuracy"
   ]
  },
  {
   "cell_type": "markdown",
   "metadata": {},
   "source": [
    "##### Accuracy on validation and test set using the modified Viterbi algorithm with probability based approach for unknown words. (method 2)"
   ]
  },
  {
   "cell_type": "code",
   "execution_count": 71,
   "metadata": {},
   "outputs": [
    {
     "data": {
      "text/plain": [
       "0.9433962264150944"
      ]
     },
     "execution_count": 71,
     "metadata": {},
     "output_type": "execute_result"
    }
   ],
   "source": [
    "# Validation set with probability based Viterbi algorithm\n",
    "check = [i for i, j in zip(updated_val_tagged_seq2, val_run_base) if i == j] \n",
    "accuracy = len(check)/len(updated_val_tagged_seq2)\n",
    "accuracy"
   ]
  },
  {
   "cell_type": "code",
   "execution_count": 72,
   "metadata": {},
   "outputs": [
    {
     "data": {
      "text/plain": [
       "0.856353591160221"
      ]
     },
     "execution_count": 72,
     "metadata": {},
     "output_type": "execute_result"
    }
   ],
   "source": [
    "# Test set with probability based Viterbi algorithm\n",
    "check = [i for i, j in zip(updated_test_tagged_seq2, test_set) if i == j] \n",
    "accuracy = len(check)/len(updated_test_tagged_seq2)\n",
    "accuracy"
   ]
  },
  {
   "cell_type": "markdown",
   "metadata": {},
   "source": [
    "### Conclusion"
   ]
  },
  {
   "cell_type": "markdown",
   "metadata": {},
   "source": [
    "We see __8-11% increase__ using the rule-based pos tagger and __6-9% increase__ using the probability-based method in validation set compared to the original Viterbi algorithm\n",
    "\n",
    "Similarly, we see __15-18% increase__ using the rule-based pos tagger and __9-12% increase__ using the probability-based method in test set compared to the original Viterbi algorithm\n",
    "\n",
    "\n"
   ]
  },
  {
   "cell_type": "markdown",
   "metadata": {},
   "source": [
    " "
   ]
  },
  {
   "cell_type": "markdown",
   "metadata": {},
   "source": [
    "### List down cases which were incorrectly tagged by original POS tagger and got corrected by your modifications"
   ]
  },
  {
   "cell_type": "markdown",
   "metadata": {},
   "source": [
    "List of incorrectly tagged words by the original POS tagger"
   ]
  },
  {
   "cell_type": "code",
   "execution_count": 73,
   "metadata": {},
   "outputs": [
    {
     "data": {
      "text/plain": [
       "[(('Android', 'VERB'), ('Android', 'NOUN')),\n",
       " (('Google', 'VERB'), ('Google', 'NOUN')),\n",
       " (('Android', 'VERB'), ('Android', 'NOUN')),\n",
       " (('best-selling', 'VERB'), ('best-selling', 'ADJ')),\n",
       " (('OS', 'VERB'), ('OS', 'NOUN')),\n",
       " (('worldwide', 'VERB'), ('worldwide', 'NOUN')),\n",
       " (('smartphones', 'VERB'), ('smartphones', 'NOUN')),\n",
       " (('2011', 'VERB'), ('2011', 'NUM')),\n",
       " (('2013', 'VERB'), ('2013', 'NUM')),\n",
       " (('Google', 'VERB'), ('Google', 'NOUN')),\n",
       " (('Twitter', 'VERB'), ('Twitter', 'NOUN')),\n",
       " (('2015', 'VERB'), ('2015', 'NUM')),\n",
       " (('that', 'ADP'), ('that', 'DET')),\n",
       " (('Google', 'VERB'), ('Google', 'NOUN')),\n",
       " (('Twitter', 'VERB'), ('Twitter', 'NOUN')),\n",
       " (('firehose', 'VERB'), ('firehose', 'NOUN')),\n",
       " (('Twitter', 'VERB'), ('Twitter', 'NOUN')),\n",
       " (('online', 'VERB'), ('online', 'ADJ')),\n",
       " (('interact', 'VERB'), ('interact', 'NOUN')),\n",
       " (('messages', 'VERB'), ('messages', 'NOUN')),\n",
       " (('tweets', 'VERB'), ('tweets', 'NOUN')),\n",
       " (('domineering', 'VERB'), ('domineering', 'ADJ')),\n",
       " (('personality', 'VERB'), ('personality', 'NOUN')),\n",
       " (('2018', 'VERB'), ('2018', 'NUM')),\n",
       " (('FIFA', 'VERB'), ('FIFA', 'NOUN')),\n",
       " (('Cup', 'VERB'), ('Cup', 'NOUN')),\n",
       " (('21st', 'VERB'), ('21st', 'NUM')),\n",
       " (('FIFA', 'VERB'), ('FIFA', 'NOUN')),\n",
       " (('Cup', 'VERB'), ('Cup', 'NOUN')),\n",
       " (('tournament', 'VERB'), ('tournament', 'NOUN')),\n",
       " (('Cup', 'VERB'), ('Cup', 'NOUN')),\n",
       " (('11th', 'VERB'), ('11th', 'NUM')),\n",
       " (('Show', 'NOUN'), ('Show', 'VERB')),\n",
       " (('trips', 'VERB'), ('trips', 'NOUN')),\n",
       " (('like', 'ADP'), ('like', 'VERB')),\n",
       " (('Show', 'NOUN'), ('Show', 'VERB')),\n",
       " (('about', 'ADP'), ('about', 'ADV')),\n",
       " (('arriving', 'VERB'), ('arriving', 'NOUN')),\n",
       " (('NASA', 'VERB'), ('NASA', 'NOUN')),\n",
       " (('experience', 'NOUN'), ('experience', 'VERB')),\n",
       " (('ICESAT-2', 'VERB'), ('ICESAT-2', 'NOUN')),\n",
       " (('Satellite', 'VERB'), ('Satellite', 'NOUN'))]"
      ]
     },
     "execution_count": 73,
     "metadata": {},
     "output_type": "execute_result"
    }
   ],
   "source": [
    "incorrect_tagged_cases_test_vanilla = [j for i, j in enumerate(zip(tagged_test_seq, test_set)) if j[0]!=j[1]]\n",
    "incorrect_tagged_cases_test_vanilla"
   ]
  },
  {
   "cell_type": "markdown",
   "metadata": {},
   "source": [
    "The following unknown word-tag pairs are corrected by the modified viterbi algorithm using\n",
    "\n",
    "### Method 1: Rule based approach "
   ]
  },
  {
   "cell_type": "markdown",
   "metadata": {},
   "source": [
    "**1. 'Android, Google, worldwide'**"
   ]
  },
  {
   "cell_type": "markdown",
   "metadata": {},
   "source": [
    "'Android','Google' and ' worldwide' were unknown words. They were incorrectly tagged in the original viterbi algorithm. However, the modified Viterbi algorithms correctly classified them as __Nouns__ "
   ]
  },
  {
   "cell_type": "markdown",
   "metadata": {},
   "source": [
    "**2. '2011,2013'**"
   ]
  },
  {
   "cell_type": "markdown",
   "metadata": {},
   "source": [
    "Words like '2011' and '2013' were incorrectly classified with the original algorithm. Because we used rule based tagger as backoff tagger and we have rule for indicating cardinal numbers such as year to numbers. Hence, '2011' and '2013' is correctly tagged as __Number(NUM)__ by the updated viterbi algorithm"
   ]
  },
  {
   "cell_type": "markdown",
   "metadata": {},
   "source": [
    "**3. 'NASA,CESAT-2,Satellite.'**"
   ]
  },
  {
   "cell_type": "markdown",
   "metadata": {},
   "source": [
    "'NASA', 'ICESAT-2' and 'Satellite' were unknown words which were incorrectly classified by the original \n",
    "Viterbi algorithm. They are correctly classified as __Nouns__ in the updated Viterbi algorithm."
   ]
  },
  {
   "cell_type": "markdown",
   "metadata": {},
   "source": [
    "### Method 2: Probability based approach "
   ]
  },
  {
   "cell_type": "markdown",
   "metadata": {},
   "source": [
    "**1. 'Android, worldwide'**"
   ]
  },
  {
   "cell_type": "markdown",
   "metadata": {},
   "source": [
    "'Android' and ' worldwide' were unknown words. They were incorrectly tagged in the original viterbi algorithm. However, the updated Viterbi algorithms correctly classified them as __Nouns__ "
   ]
  },
  {
   "cell_type": "markdown",
   "metadata": {},
   "source": [
    "**2. 'NASA,Satellite'**"
   ]
  },
  {
   "cell_type": "markdown",
   "metadata": {},
   "source": [
    "'NASA' and 'Satellite' were unknown words which were incorrectly classified by the original Viterbi algorithm. They are correctly classified as __Nouns__ in the updated Viterbi algorithm."
   ]
  },
  {
   "cell_type": "markdown",
   "metadata": {},
   "source": [
    "**3. 'personality,tournament'**"
   ]
  },
  {
   "cell_type": "markdown",
   "metadata": {},
   "source": [
    "'Personality' and 'Tournament' were unknown words which were incorrectly classified by the original Viterbi algorithm. They are correctly classified as __Nouns__ in the updated Viterbi algorithm."
   ]
  }
 ],
 "metadata": {
  "kernelspec": {
   "display_name": "Python 3",
   "language": "python",
   "name": "python3"
  },
  "language_info": {
   "codemirror_mode": {
    "name": "ipython",
    "version": 3
   },
   "file_extension": ".py",
   "mimetype": "text/x-python",
   "name": "python",
   "nbconvert_exporter": "python",
   "pygments_lexer": "ipython3",
   "version": "3.7.0"
  }
 },
 "nbformat": 4,
 "nbformat_minor": 2
}
